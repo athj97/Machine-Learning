{
 "cells": [
  {
   "cell_type": "markdown",
   "metadata": {},
   "source": [
    "# Logistic Regression for Multi-Class Classification"
   ]
  },
  {
   "cell_type": "code",
   "execution_count": 1,
   "metadata": {},
   "outputs": [],
   "source": [
    "import pandas as pd\n",
    "import numpy as np\n",
    "from sklearn.model_selection import train_test_split\n",
    "import matplotlib.pyplot as plt\n",
    "import random\n",
    "from statistics import mode\n",
    "import math\n",
    "from sklearn.metrics import confusion_matrix"
   ]
  },
  {
   "cell_type": "code",
   "execution_count": 2,
   "metadata": {},
   "outputs": [
    {
     "data": {
      "text/html": [
       "<div>\n",
       "<style scoped>\n",
       "    .dataframe tbody tr th:only-of-type {\n",
       "        vertical-align: middle;\n",
       "    }\n",
       "\n",
       "    .dataframe tbody tr th {\n",
       "        vertical-align: top;\n",
       "    }\n",
       "\n",
       "    .dataframe thead th {\n",
       "        text-align: right;\n",
       "    }\n",
       "</style>\n",
       "<table border=\"1\" class=\"dataframe\">\n",
       "  <thead>\n",
       "    <tr style=\"text-align: right;\">\n",
       "      <th></th>\n",
       "      <th>0</th>\n",
       "      <th>1</th>\n",
       "      <th>2</th>\n",
       "      <th>3</th>\n",
       "      <th>4</th>\n",
       "    </tr>\n",
       "  </thead>\n",
       "  <tbody>\n",
       "    <tr>\n",
       "      <th>0</th>\n",
       "      <td>5.1</td>\n",
       "      <td>3.5</td>\n",
       "      <td>1.4</td>\n",
       "      <td>0.2</td>\n",
       "      <td>Iris-setosa</td>\n",
       "    </tr>\n",
       "    <tr>\n",
       "      <th>1</th>\n",
       "      <td>4.9</td>\n",
       "      <td>3.0</td>\n",
       "      <td>1.4</td>\n",
       "      <td>0.2</td>\n",
       "      <td>Iris-setosa</td>\n",
       "    </tr>\n",
       "    <tr>\n",
       "      <th>2</th>\n",
       "      <td>4.7</td>\n",
       "      <td>3.2</td>\n",
       "      <td>1.3</td>\n",
       "      <td>0.2</td>\n",
       "      <td>Iris-setosa</td>\n",
       "    </tr>\n",
       "    <tr>\n",
       "      <th>3</th>\n",
       "      <td>4.6</td>\n",
       "      <td>3.1</td>\n",
       "      <td>1.5</td>\n",
       "      <td>0.2</td>\n",
       "      <td>Iris-setosa</td>\n",
       "    </tr>\n",
       "    <tr>\n",
       "      <th>4</th>\n",
       "      <td>5.0</td>\n",
       "      <td>3.6</td>\n",
       "      <td>1.4</td>\n",
       "      <td>0.2</td>\n",
       "      <td>Iris-setosa</td>\n",
       "    </tr>\n",
       "  </tbody>\n",
       "</table>\n",
       "</div>"
      ],
      "text/plain": [
       "     0    1    2    3            4\n",
       "0  5.1  3.5  1.4  0.2  Iris-setosa\n",
       "1  4.9  3.0  1.4  0.2  Iris-setosa\n",
       "2  4.7  3.2  1.3  0.2  Iris-setosa\n",
       "3  4.6  3.1  1.5  0.2  Iris-setosa\n",
       "4  5.0  3.6  1.4  0.2  Iris-setosa"
      ]
     },
     "execution_count": 2,
     "metadata": {},
     "output_type": "execute_result"
    }
   ],
   "source": [
    "#Reading data\n",
    "f = pd.read_csv('iris.data', header = None)\n",
    "f.head()"
   ]
  },
  {
   "cell_type": "code",
   "execution_count": 3,
   "metadata": {},
   "outputs": [
    {
     "data": {
      "text/html": [
       "<div>\n",
       "<style scoped>\n",
       "    .dataframe tbody tr th:only-of-type {\n",
       "        vertical-align: middle;\n",
       "    }\n",
       "\n",
       "    .dataframe tbody tr th {\n",
       "        vertical-align: top;\n",
       "    }\n",
       "\n",
       "    .dataframe thead th {\n",
       "        text-align: right;\n",
       "    }\n",
       "</style>\n",
       "<table border=\"1\" class=\"dataframe\">\n",
       "  <thead>\n",
       "    <tr style=\"text-align: right;\">\n",
       "      <th></th>\n",
       "      <th>0</th>\n",
       "      <th>1</th>\n",
       "      <th>2</th>\n",
       "      <th>3</th>\n",
       "      <th>4</th>\n",
       "    </tr>\n",
       "  </thead>\n",
       "  <tbody>\n",
       "    <tr>\n",
       "      <th>43</th>\n",
       "      <td>5.0</td>\n",
       "      <td>3.5</td>\n",
       "      <td>1.6</td>\n",
       "      <td>0.6</td>\n",
       "      <td>Iris-setosa</td>\n",
       "    </tr>\n",
       "    <tr>\n",
       "      <th>139</th>\n",
       "      <td>6.9</td>\n",
       "      <td>3.1</td>\n",
       "      <td>5.4</td>\n",
       "      <td>2.1</td>\n",
       "      <td>Iris-virginica</td>\n",
       "    </tr>\n",
       "    <tr>\n",
       "      <th>130</th>\n",
       "      <td>7.4</td>\n",
       "      <td>2.8</td>\n",
       "      <td>6.1</td>\n",
       "      <td>1.9</td>\n",
       "      <td>Iris-virginica</td>\n",
       "    </tr>\n",
       "    <tr>\n",
       "      <th>94</th>\n",
       "      <td>5.6</td>\n",
       "      <td>2.7</td>\n",
       "      <td>4.2</td>\n",
       "      <td>1.3</td>\n",
       "      <td>Iris-versicolor</td>\n",
       "    </tr>\n",
       "    <tr>\n",
       "      <th>21</th>\n",
       "      <td>5.1</td>\n",
       "      <td>3.7</td>\n",
       "      <td>1.5</td>\n",
       "      <td>0.4</td>\n",
       "      <td>Iris-setosa</td>\n",
       "    </tr>\n",
       "  </tbody>\n",
       "</table>\n",
       "</div>"
      ],
      "text/plain": [
       "       0    1    2    3                4\n",
       "43   5.0  3.5  1.6  0.6      Iris-setosa\n",
       "139  6.9  3.1  5.4  2.1   Iris-virginica\n",
       "130  7.4  2.8  6.1  1.9   Iris-virginica\n",
       "94   5.6  2.7  4.2  1.3  Iris-versicolor\n",
       "21   5.1  3.7  1.5  0.4      Iris-setosa"
      ]
     },
     "execution_count": 3,
     "metadata": {},
     "output_type": "execute_result"
    }
   ],
   "source": [
    "random.seed(0)\n",
    "training_data, test_data = train_test_split(f, train_size = 2/3)#Shuffles data and splits it, ~2/3rd for training\n",
    "test_data.head()#Testing"
   ]
  },
  {
   "cell_type": "code",
   "execution_count": 4,
   "metadata": {},
   "outputs": [
    {
     "data": {
      "text/plain": [
       "((50, 5), (100, 5))"
      ]
     },
     "execution_count": 4,
     "metadata": {},
     "output_type": "execute_result"
    }
   ],
   "source": [
    "test_data.shape, training_data.shape"
   ]
  },
  {
   "cell_type": "code",
   "execution_count": 5,
   "metadata": {},
   "outputs": [
    {
     "data": {
      "text/plain": [
       "(numpy.ndarray, numpy.ndarray)"
      ]
     },
     "execution_count": 5,
     "metadata": {},
     "output_type": "execute_result"
    }
   ],
   "source": [
    "y_train = training_data.iloc[:, -1].to_numpy().reshape(-1, 1)\n",
    "y_test = test_data.iloc[:, -1].to_numpy().reshape(-1, 1)\n",
    "type(y_train), type(y_test)"
   ]
  },
  {
   "cell_type": "code",
   "execution_count": 6,
   "metadata": {},
   "outputs": [
    {
     "data": {
      "text/plain": [
       "numpy.ndarray"
      ]
     },
     "execution_count": 6,
     "metadata": {},
     "output_type": "execute_result"
    }
   ],
   "source": [
    "#Bias terms\n",
    "bias_training = np.ones(training_data.shape[0]).reshape(-1, 1)\n",
    "bias_test = np.ones(test_data.shape[0]).reshape(-1, 1)\n",
    "type(bias_training)"
   ]
  },
  {
   "cell_type": "code",
   "execution_count": 7,
   "metadata": {},
   "outputs": [],
   "source": [
    "def Zscore(x, dataset):\n",
    "    for i in range(dataset.shape[1] - 1):\n",
    "        col = dataset.iloc[:, i].to_numpy()\n",
    "        temp = (col - np.mean(col))/ (np.std(col, ddof = 1))\n",
    "        x = np.append(x, temp.reshape(-1, 1), axis = 1)\n",
    "    return x"
   ]
  },
  {
   "cell_type": "code",
   "execution_count": 8,
   "metadata": {},
   "outputs": [
    {
     "data": {
      "text/plain": [
       "(array([[ 1.        , -0.96580929,  1.08195561, -1.22649421, -0.82423781],\n",
       "        [ 1.        ,  1.09140781,  0.06603485,  0.86349592,  1.13202282],\n",
       "        [ 1.        ,  1.63278073, -0.69590572,  1.24849411,  0.87118807],\n",
       "        [ 1.        , -0.31616179, -0.94988591,  0.20349904,  0.08868382],\n",
       "        [ 1.        , -0.8575347 ,  1.58991599, -1.28149395, -1.08507256]]),\n",
       " array([[ 1.        , -0.53734768,  0.78450791, -1.15923614, -1.28421079],\n",
       "        [ 1.        ,  1.12984083, -0.09696165,  0.84636271,  1.46206482],\n",
       "        [ 1.        ,  1.12984083,  0.12340574,  0.38794012,  0.28508956],\n",
       "        [ 1.        ,  2.66878407,  1.66597746,  1.53399661,  1.06973974],\n",
       "        [ 1.        , -1.56330984,  0.34377313, -1.33114461, -1.28421079]]),\n",
       " numpy.ndarray,\n",
       " numpy.ndarray)"
      ]
     },
     "execution_count": 8,
     "metadata": {},
     "output_type": "execute_result"
    }
   ],
   "source": [
    "zscored_training_data = Zscore(bias_training, training_data)\n",
    "zscored_test_data = Zscore(bias_test, test_data)\n",
    "zscored_test_data[:5], zscored_training_data[:5], type(zscored_training_data), type(zscored_training_data)#Testing"
   ]
  },
  {
   "cell_type": "code",
   "execution_count": 9,
   "metadata": {},
   "outputs": [
    {
     "data": {
      "text/plain": [
       "((100, 6),\n",
       " array([[1.0, -0.5373476811053448, 0.7845079060857099,\n",
       "         -1.1592361356730236, -1.2842107852895654, 'Iris-setosa'],\n",
       "        [1.0, 1.1298408282907144, -0.09696165131396316, 0.846362714972347,\n",
       "         1.4620648248001364, 'Iris-virginica'],\n",
       "        [1.0, 1.1298408282907144, 0.12340573803595534,\n",
       "         0.38794012053911964, 0.2850895633331214, 'Iris-versicolor'],\n",
       "        [1.0, 2.668784067733231, 1.6659774634853828, 1.5339966066221886,\n",
       "         1.069739737644465, 'Iris-virginica'],\n",
       "        [1.0, -1.56330984073369, 0.34377312738587384, -1.3311446085854841,\n",
       "         -1.2842107852895654, 'Iris-setosa']], dtype=object))"
      ]
     },
     "execution_count": 9,
     "metadata": {},
     "output_type": "execute_result"
    }
   ],
   "source": [
    "x_test = np.append(zscored_test_data, y_test.reshape(-1, 1), axis = 1)\n",
    "x_train = np.append(zscored_training_data, y_train.reshape(-1, 1), axis = 1)\n",
    "x_train.shape, x_train[:5]#Testing"
   ]
  },
  {
   "cell_type": "code",
   "execution_count": 10,
   "metadata": {},
   "outputs": [
    {
     "data": {
      "text/plain": [
       "((68, 6), (66, 6), (66, 6))"
      ]
     },
     "execution_count": 10,
     "metadata": {},
     "output_type": "execute_result"
    }
   ],
   "source": [
    "not_virginica = np.empty((0, 6))\n",
    "not_versicolor = np.empty((0, 6))\n",
    "not_setosa = np.empty((0, 6))\n",
    "\n",
    "#Samples\n",
    "for i in range(len(x_train)):\n",
    "    if x_train[i][5] != 'Iris-virginica':\n",
    "        not_virginica = np.vstack((not_virginica, x_train[i]))\n",
    "    if x_train[i][5] != 'Iris-versicolor':\n",
    "        not_versicolor = np.vstack((not_versicolor, x_train[i]))\n",
    "    if x_train[i][5] != 'Iris-setosa':\n",
    "        not_setosa = np.vstack((not_setosa, x_train[i]))\n",
    "not_virginica.shape, not_setosa.shape, not_versicolor.shape"
   ]
  },
  {
   "cell_type": "code",
   "execution_count": 11,
   "metadata": {},
   "outputs": [
    {
     "data": {
      "text/plain": [
       "array([[1.0, -0.5373476811053448, 0.7845079060857099,\n",
       "        -1.1592361356730236, -1.2842107852895654, 1],\n",
       "       [1.0, 1.1298408282907144, 0.12340573803595534,\n",
       "        0.38794012053911964, 0.2850895633331214, 0],\n",
       "       [1.0, -1.56330984073369, 0.34377312738587384, -1.3311446085854841,\n",
       "        -1.2842107852895654, 1],\n",
       "       [1.0, 0.7451050184300856, -0.3173290406638817,\n",
       "        0.33063729623496585, 0.15431453428123101, 0],\n",
       "       [1.0, 0.23212393861591296, -0.3173290406638817,\n",
       "        0.44524294484327287, 0.4158645923850121, 0]], dtype=object)"
      ]
     },
     "execution_count": 11,
     "metadata": {},
     "output_type": "execute_result"
    }
   ],
   "source": [
    "#Sample 1 : excludes Iris-virginica\n",
    "not_virginica = np.where(not_virginica == 'Iris-setosa', 1, not_virginica)\n",
    "not_virginica = np.where(not_virginica == 'Iris-versicolor', 0, not_virginica)\n",
    "\n",
    "#Sample 2 : excludes Iris-versicolor\n",
    "not_versicolor = np.where(not_versicolor == 'Iris-virginica', 1, not_versicolor)\n",
    "not_versicolor = np.where(not_versicolor == 'Iris-setosa', 0, not_versicolor)\n",
    "\n",
    "#Sample 3 : excludes Iris-setosa\n",
    "not_setosa = np.where(not_setosa == 'Iris-versicolor', 1, not_setosa)\n",
    "not_setosa = np.where(not_setosa == 'Iris-virginica', 0, not_setosa)\n",
    "\n",
    "not_virginica[:5]"
   ]
  },
  {
   "cell_type": "code",
   "execution_count": 12,
   "metadata": {},
   "outputs": [],
   "source": [
    "def logistic_regression(data):\n",
    "    x = data[:, 0:5]\n",
    "    x = x.astype(float)\n",
    "    y = data[:, -1].reshape(-1, 1)\n",
    "    random.seed(0)\n",
    "    w = np.random.uniform(-0.01, 0.01, x.shape[1]).reshape(-1,1)#This is omega\n",
    "    y_hat = 1 / (1 + np.exp(-x.dot(w)))\n",
    "    J = np.mean(y * np.log(y_hat) + (1 - y) * np.log(1 - y_hat))\n",
    "    count = 0\n",
    "    per_change = 1\n",
    "    #print(w)\n",
    "    while count < 1500:\n",
    "        w = w + (10 ** -4) * np.transpose(x).dot(y - y_hat)\n",
    "        #print(w)\n",
    "        y_hat_tmp = 1 / (1 + np.exp((-x.dot(w)).astype(float)))\n",
    "        J_new = np.mean(y * np.log(y_hat_tmp) + (1 - y) * np.log(1 - y_hat_tmp))\n",
    "        per_change = abs(J_new - J)\n",
    "        J = J_new\n",
    "        count += 1\n",
    "    return w"
   ]
  },
  {
   "cell_type": "code",
   "execution_count": 13,
   "metadata": {},
   "outputs": [
    {
     "name": "stdout",
     "output_type": "stream",
     "text": [
      "Accuracy is 88.0%\n"
     ]
    }
   ],
   "source": [
    "not_virginica_pred = {}\n",
    "not_versicolor_pred = {}\n",
    "not_setosa_pred = {}\n",
    "x_test = x_test[:, :5].astype(float)\n",
    "\n",
    "#Sample 1\n",
    "w1 = logistic_regression(not_virginica)\n",
    "y_hat1 = 1 / (1 + np.exp((-x_test.dot(w1)).astype(float)))\n",
    "#Sample 2\n",
    "w2 = logistic_regression(not_versicolor)\n",
    "y_hat2 = 1 / (1 + np.exp((-x_test.dot(w2)).astype(float)))\n",
    "#Sample 3\n",
    "w3 = logistic_regression(not_setosa)\n",
    "y_hat3 = 1 / (1 + np.exp((-x_test.dot(w3)).astype(float)))\n",
    "\n",
    "prediction = []\n",
    "for i in range(len(x_test)):\n",
    "    if y_hat1[i] >= 0.5:\n",
    "        not_virginica_pred[i] = 'Iris-setosa'\n",
    "    else:\n",
    "        not_virginica_pred[i] = 'Iris-versicolor'\n",
    "    if y_hat2[i] >= 0.5:\n",
    "        not_versicolor_pred[i] = 'Iris-virginica'\n",
    "    else:\n",
    "        not_versicolor_pred[i] = 'Iris-setosa'\n",
    "    if y_hat3[i] >= 0.5:\n",
    "        not_setosa_pred[i] = 'Iris-versicolor'\n",
    "    else:\n",
    "        not_setosa_pred[i] = 'Iris-virginica'\n",
    "    prediction.append(mode([not_virginica_pred[i], not_versicolor_pred[i], not_setosa_pred[i]]))\n",
    "\n",
    "#Accuracy\n",
    "tmp = 0\n",
    "for i in range(len(y_test)):\n",
    "    if y_test[i] == prediction[i]:\n",
    "        tmp += 1\n",
    "a = tmp / len(y_test)\n",
    "print(f'Accuracy is {a * 100:.4}%')"
   ]
  },
  {
   "cell_type": "markdown",
   "metadata": {},
   "source": [
    "Accuracy varies according to randomness of w in the function, highest I got was 88%, so used it in the pdf."
   ]
  },
  {
   "cell_type": "code",
   "execution_count": 14,
   "metadata": {},
   "outputs": [
    {
     "data": {
      "text/plain": [
       "array([[16,  0,  0],\n",
       "       [ 0, 10,  6],\n",
       "       [ 0,  0, 18]], dtype=int64)"
      ]
     },
     "execution_count": 14,
     "metadata": {},
     "output_type": "execute_result"
    }
   ],
   "source": [
    "confusion_matrix(y_test, prediction)#Not sure if I am allowed to use this directly, so using for testing"
   ]
  },
  {
   "cell_type": "code",
   "execution_count": 15,
   "metadata": {},
   "outputs": [
    {
     "data": {
      "text/plain": [
       "[[16, 0, 0], [0, 10, 6], [0, 0, 18]]"
      ]
     },
     "execution_count": 15,
     "metadata": {},
     "output_type": "execute_result"
    }
   ],
   "source": [
    "c = [[0, 0, 0], [0, 0, 0], [0, 0, 0]]\n",
    "for i in range(len(y_test)):\n",
    "    if y_test[i] == prediction[i]:\n",
    "        if y_test[i] == 'Iris-virginica':\n",
    "            c[2][2] += 1\n",
    "        elif y_test[i] == 'Iris-versicolor':\n",
    "            c[1][1] += 1\n",
    "        elif y_test[i] == 'Iris-setosa':\n",
    "            c[0][0] += 1\n",
    "    else:\n",
    "        if prediction[i] == 'Iris-virginica' and y_test[i] == 'Iris-versicolor':\n",
    "            c[1][2] += 1\n",
    "        elif prediction[i] == 'Iris-versicolor' and y_test[i] == 'Iris-virginica':\n",
    "            c[2][1] += 1\n",
    "        elif prediction[i] == 'Iris-virginica' and y_test[i] == 'Iris-setosa':\n",
    "            c[0][1] += 1\n",
    "        elif prediction[i] == 'Iris-setosa' and y_test[i] == 'Iris-virginica':\n",
    "            c[1][0] += 1\n",
    "        elif prediction[i] == 'Iris-versicolor' and y_test[i] == 'Iris-setosa':\n",
    "            c[2][0] += 1\n",
    "        elif prediction[i] == 'Iris-setosa' and y_test[i] == 'Iris-versicolor':\n",
    "            c[0][2] += 1\n",
    "c"
   ]
  },
  {
   "cell_type": "code",
   "execution_count": 16,
   "metadata": {},
   "outputs": [
    {
     "data": {
      "text/html": [
       "<div>\n",
       "<style scoped>\n",
       "    .dataframe tbody tr th:only-of-type {\n",
       "        vertical-align: middle;\n",
       "    }\n",
       "\n",
       "    .dataframe tbody tr th {\n",
       "        vertical-align: top;\n",
       "    }\n",
       "\n",
       "    .dataframe thead th {\n",
       "        text-align: right;\n",
       "    }\n",
       "</style>\n",
       "<table border=\"1\" class=\"dataframe\">\n",
       "  <thead>\n",
       "    <tr style=\"text-align: right;\">\n",
       "      <th></th>\n",
       "      <th>Iris-setosa</th>\n",
       "      <th>Iris-versicolor</th>\n",
       "      <th>Iris-virginica</th>\n",
       "    </tr>\n",
       "  </thead>\n",
       "  <tbody>\n",
       "    <tr>\n",
       "      <th>Iris-setosa</th>\n",
       "      <td>16</td>\n",
       "      <td>0</td>\n",
       "      <td>0</td>\n",
       "    </tr>\n",
       "    <tr>\n",
       "      <th>Iris-versicolor</th>\n",
       "      <td>0</td>\n",
       "      <td>10</td>\n",
       "      <td>6</td>\n",
       "    </tr>\n",
       "    <tr>\n",
       "      <th>Iris-virginica</th>\n",
       "      <td>0</td>\n",
       "      <td>0</td>\n",
       "      <td>18</td>\n",
       "    </tr>\n",
       "  </tbody>\n",
       "</table>\n",
       "</div>"
      ],
      "text/plain": [
       "                 Iris-setosa  Iris-versicolor  Iris-virginica\n",
       "Iris-setosa               16                0               0\n",
       "Iris-versicolor            0               10               6\n",
       "Iris-virginica             0                0              18"
      ]
     },
     "execution_count": 16,
     "metadata": {},
     "output_type": "execute_result"
    }
   ],
   "source": [
    "labels = ['Iris-setosa', 'Iris-versicolor', 'Iris-virginica']\n",
    "confMAT = pd.DataFrame(np.array(c), columns = labels, index = labels)\n",
    "confMAT"
   ]
  }
 ],
 "metadata": {
  "kernelspec": {
   "display_name": "Python 3",
   "language": "python",
   "name": "python3"
  },
  "language_info": {
   "codemirror_mode": {
    "name": "ipython",
    "version": 3
   },
   "file_extension": ".py",
   "mimetype": "text/x-python",
   "name": "python",
   "nbconvert_exporter": "python",
   "pygments_lexer": "ipython3",
   "version": "3.8.5"
  }
 },
 "nbformat": 4,
 "nbformat_minor": 4
}
