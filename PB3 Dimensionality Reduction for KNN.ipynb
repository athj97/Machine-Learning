{
 "cells": [
  {
   "cell_type": "code",
   "execution_count": 1,
   "metadata": {
    "scrolled": true
   },
   "outputs": [
    {
     "data": {
      "text/html": [
       "<div>\n",
       "<style scoped>\n",
       "    .dataframe tbody tr th:only-of-type {\n",
       "        vertical-align: middle;\n",
       "    }\n",
       "\n",
       "    .dataframe tbody tr th {\n",
       "        vertical-align: top;\n",
       "    }\n",
       "\n",
       "    .dataframe thead th {\n",
       "        text-align: right;\n",
       "    }\n",
       "</style>\n",
       "<table border=\"1\" class=\"dataframe\">\n",
       "  <thead>\n",
       "    <tr style=\"text-align: right;\">\n",
       "      <th></th>\n",
       "      <th>0</th>\n",
       "      <th>1</th>\n",
       "      <th>2</th>\n",
       "      <th>3</th>\n",
       "      <th>4</th>\n",
       "      <th>5</th>\n",
       "      <th>6</th>\n",
       "      <th>7</th>\n",
       "      <th>8</th>\n",
       "      <th>9</th>\n",
       "      <th>...</th>\n",
       "      <th>5646</th>\n",
       "      <th>5647</th>\n",
       "      <th>5648</th>\n",
       "      <th>5649</th>\n",
       "      <th>5650</th>\n",
       "      <th>5651</th>\n",
       "      <th>5652</th>\n",
       "      <th>5653</th>\n",
       "      <th>5654</th>\n",
       "      <th>5655</th>\n",
       "    </tr>\n",
       "  </thead>\n",
       "  <tbody>\n",
       "    <tr>\n",
       "      <th>0</th>\n",
       "      <td>0</td>\n",
       "      <td>45.0</td>\n",
       "      <td>46.000</td>\n",
       "      <td>44.0000</td>\n",
       "      <td>43.000</td>\n",
       "      <td>44.333</td>\n",
       "      <td>46.667</td>\n",
       "      <td>50.667</td>\n",
       "      <td>57.000</td>\n",
       "      <td>62.000</td>\n",
       "      <td>...</td>\n",
       "      <td>165.67</td>\n",
       "      <td>179.670</td>\n",
       "      <td>181.330</td>\n",
       "      <td>178.670</td>\n",
       "      <td>173.330</td>\n",
       "      <td>171.330</td>\n",
       "      <td>158.670</td>\n",
       "      <td>113.000</td>\n",
       "      <td>70.000</td>\n",
       "      <td>57.333</td>\n",
       "    </tr>\n",
       "    <tr>\n",
       "      <th>1</th>\n",
       "      <td>0</td>\n",
       "      <td>10.0</td>\n",
       "      <td>9.000</td>\n",
       "      <td>5.6667</td>\n",
       "      <td>5.000</td>\n",
       "      <td>7.000</td>\n",
       "      <td>10.000</td>\n",
       "      <td>16.000</td>\n",
       "      <td>18.000</td>\n",
       "      <td>20.667</td>\n",
       "      <td>...</td>\n",
       "      <td>121.33</td>\n",
       "      <td>113.000</td>\n",
       "      <td>94.000</td>\n",
       "      <td>63.000</td>\n",
       "      <td>31.000</td>\n",
       "      <td>20.667</td>\n",
       "      <td>21.333</td>\n",
       "      <td>20.667</td>\n",
       "      <td>20.333</td>\n",
       "      <td>23.000</td>\n",
       "    </tr>\n",
       "    <tr>\n",
       "      <th>2</th>\n",
       "      <td>0</td>\n",
       "      <td>15.0</td>\n",
       "      <td>18.667</td>\n",
       "      <td>16.6670</td>\n",
       "      <td>20.000</td>\n",
       "      <td>27.333</td>\n",
       "      <td>34.000</td>\n",
       "      <td>39.000</td>\n",
       "      <td>50.667</td>\n",
       "      <td>69.667</td>\n",
       "      <td>...</td>\n",
       "      <td>170.67</td>\n",
       "      <td>200.000</td>\n",
       "      <td>224.330</td>\n",
       "      <td>228.670</td>\n",
       "      <td>231.000</td>\n",
       "      <td>228.000</td>\n",
       "      <td>230.000</td>\n",
       "      <td>227.000</td>\n",
       "      <td>224.330</td>\n",
       "      <td>225.670</td>\n",
       "    </tr>\n",
       "    <tr>\n",
       "      <th>3</th>\n",
       "      <td>0</td>\n",
       "      <td>33.0</td>\n",
       "      <td>31.667</td>\n",
       "      <td>32.0000</td>\n",
       "      <td>31.333</td>\n",
       "      <td>32.333</td>\n",
       "      <td>38.333</td>\n",
       "      <td>41.333</td>\n",
       "      <td>42.000</td>\n",
       "      <td>52.667</td>\n",
       "      <td>...</td>\n",
       "      <td>50.00</td>\n",
       "      <td>50.333</td>\n",
       "      <td>50.333</td>\n",
       "      <td>50.333</td>\n",
       "      <td>50.667</td>\n",
       "      <td>50.667</td>\n",
       "      <td>50.667</td>\n",
       "      <td>50.333</td>\n",
       "      <td>50.000</td>\n",
       "      <td>50.000</td>\n",
       "    </tr>\n",
       "    <tr>\n",
       "      <th>4</th>\n",
       "      <td>0</td>\n",
       "      <td>33.0</td>\n",
       "      <td>33.333</td>\n",
       "      <td>29.6670</td>\n",
       "      <td>26.667</td>\n",
       "      <td>28.000</td>\n",
       "      <td>33.667</td>\n",
       "      <td>43.000</td>\n",
       "      <td>54.333</td>\n",
       "      <td>63.667</td>\n",
       "      <td>...</td>\n",
       "      <td>147.33</td>\n",
       "      <td>167.000</td>\n",
       "      <td>194.670</td>\n",
       "      <td>214.670</td>\n",
       "      <td>223.330</td>\n",
       "      <td>228.330</td>\n",
       "      <td>226.000</td>\n",
       "      <td>220.670</td>\n",
       "      <td>193.670</td>\n",
       "      <td>126.330</td>\n",
       "    </tr>\n",
       "  </tbody>\n",
       "</table>\n",
       "<p>5 rows × 5656 columns</p>\n",
       "</div>"
      ],
      "text/plain": [
       "   0     1       2        3       4       5       6       7       8     \\\n",
       "0     0  45.0  46.000  44.0000  43.000  44.333  46.667  50.667  57.000   \n",
       "1     0  10.0   9.000   5.6667   5.000   7.000  10.000  16.000  18.000   \n",
       "2     0  15.0  18.667  16.6670  20.000  27.333  34.000  39.000  50.667   \n",
       "3     0  33.0  31.667  32.0000  31.333  32.333  38.333  41.333  42.000   \n",
       "4     0  33.0  33.333  29.6670  26.667  28.000  33.667  43.000  54.333   \n",
       "\n",
       "     9     ...    5646     5647     5648     5649     5650     5651     5652  \\\n",
       "0  62.000  ...  165.67  179.670  181.330  178.670  173.330  171.330  158.670   \n",
       "1  20.667  ...  121.33  113.000   94.000   63.000   31.000   20.667   21.333   \n",
       "2  69.667  ...  170.67  200.000  224.330  228.670  231.000  228.000  230.000   \n",
       "3  52.667  ...   50.00   50.333   50.333   50.333   50.667   50.667   50.667   \n",
       "4  63.667  ...  147.33  167.000  194.670  214.670  223.330  228.330  226.000   \n",
       "\n",
       "      5653     5654     5655  \n",
       "0  113.000   70.000   57.333  \n",
       "1   20.667   20.333   23.000  \n",
       "2  227.000  224.330  225.670  \n",
       "3   50.333   50.000   50.000  \n",
       "4  220.670  193.670  126.330  \n",
       "\n",
       "[5 rows x 5656 columns]"
      ]
     },
     "execution_count": 1,
     "metadata": {},
     "output_type": "execute_result"
    }
   ],
   "source": [
    "import numpy as np\n",
    "import pandas as pd\n",
    "import matplotlib.pyplot as plt\n",
    "import random\n",
    "from sklearn.model_selection import train_test_split\n",
    "f = pd.read_csv(\"lfw20.csv\", header = None)\n",
    "f.head()"
   ]
  },
  {
   "cell_type": "code",
   "execution_count": 2,
   "metadata": {},
   "outputs": [
    {
     "name": "stdout",
     "output_type": "stream",
     "text": [
      "(818, 5655) (422, 5655) (818,) (422,)\n"
     ]
    }
   ],
   "source": [
    "random.seed(0)\n",
    "data = f.to_numpy()[:, 1:] / 255\n",
    "Y = f.to_numpy()[:, 0]\n",
    "#num = round(data.shape[0] * 2/3)#2/3rd data for training\n",
    "trainX, testX = train_test_split(data, train_size = 0.66)#data[:num, :], data[num:,:]\n",
    "trainY, testY = Y[:len(trainX)], Y[len(trainX):]\n",
    "print(trainX.shape, testX.shape, trainY.shape, testY.shape)"
   ]
  },
  {
   "cell_type": "code",
   "execution_count": 3,
   "metadata": {},
   "outputs": [
    {
     "data": {
      "text/plain": [
       "((818, 5655), (422, 5655), (818,), (422,))"
      ]
     },
     "execution_count": 3,
     "metadata": {},
     "output_type": "execute_result"
    }
   ],
   "source": [
    "#Zscoring\n",
    "ztrx = (trainX - np.mean(trainX, axis = 0)) / (np.std(trainX, axis = 0, ddof = 1))\n",
    "ztsx = (testX - np.mean(trainX, axis = 0)) / (np.std(trainX, axis = 0, ddof = 1))\n",
    "#Because we were asked to zscore test based on training data only\n",
    "ztrx.shape, ztsx.shape, trainY.shape, testY.shape"
   ]
  },
  {
   "cell_type": "code",
   "execution_count": 4,
   "metadata": {},
   "outputs": [],
   "source": [
    "def KNN(a, b):\n",
    "    return trainY[np.argmax(np.sum((np.tile(a, (b.shape[0], 1)) - b)**2, axis = 1))]"
   ]
  },
  {
   "cell_type": "code",
   "execution_count": 5,
   "metadata": {},
   "outputs": [
    {
     "data": {
      "text/plain": [
       "422"
      ]
     },
     "execution_count": 5,
     "metadata": {},
     "output_type": "execute_result"
    }
   ],
   "source": [
    "vals = []\n",
    "for i in range(len(testY)):\n",
    "    vals.append(KNN(ztsx[i], ztrx))\n",
    "len(vals)"
   ]
  },
  {
   "cell_type": "code",
   "execution_count": 6,
   "metadata": {},
   "outputs": [],
   "source": [
    "def get_accuracy(true, pred):\n",
    "    count = 0\n",
    "    if len(true) != len(pred):\n",
    "        print(\"Error\")\n",
    "        return\n",
    "    for i in range(len(true)):\n",
    "        if true[i] == pred[i]:\n",
    "            count += 1\n",
    "    return round(count / len(true))"
   ]
  },
  {
   "cell_type": "code",
   "execution_count": 7,
   "metadata": {},
   "outputs": [
    {
     "name": "stdout",
     "output_type": "stream",
     "text": [
      "Accuracy for k = 1 and D = original is 18.0%\n"
     ]
    }
   ],
   "source": [
    "acc1 = get_accuracy(vals, testY)\n",
    "print(f'Accuracy for k = 1 and D = original is {round(acc1 * 100, 2)}%')"
   ]
  },
  {
   "cell_type": "code",
   "execution_count": 8,
   "metadata": {},
   "outputs": [],
   "source": [
    "def PCA(d):\n",
    "    '''PCA for D = 100'''\n",
    "    w, v  =np.linalg.eigh(np.cov(np.transpose(d)))\n",
    "    return v[:, w.argsort()[-100:].tolist()[::-1]]"
   ]
  },
  {
   "cell_type": "code",
   "execution_count": 9,
   "metadata": {},
   "outputs": [],
   "source": [
    "extra = PCA(trainX)"
   ]
  },
  {
   "cell_type": "code",
   "execution_count": 10,
   "metadata": {},
   "outputs": [],
   "source": [
    "newtrainX_nw = trainX @ extra\n",
    "newtestX_nw = testX @ extra"
   ]
  },
  {
   "cell_type": "code",
   "execution_count": 11,
   "metadata": {},
   "outputs": [
    {
     "data": {
      "text/plain": [
       "422"
      ]
     },
     "execution_count": 11,
     "metadata": {},
     "output_type": "execute_result"
    }
   ],
   "source": [
    "new_vals = []\n",
    "for i in range(len(testY)):\n",
    "    new_vals.append(KNN(newtestX_nw[i], newtrainX_nw))\n",
    "len(new_vals)"
   ]
  },
  {
   "cell_type": "code",
   "execution_count": 12,
   "metadata": {},
   "outputs": [
    {
     "name": "stdout",
     "output_type": "stream",
     "text": [
      "Accuracy for k = 1 and D = 100, with PCA(non-whitened) is 21.0%\n"
     ]
    }
   ],
   "source": [
    "acc2 = get_accuracy(testY, new_vals)\n",
    "print(f'Accuracy for k = 1 and D = 100, with PCA(non-whitened) is {round(acc2 * 100, 2)}%')"
   ]
  },
  {
   "cell_type": "code",
   "execution_count": 13,
   "metadata": {},
   "outputs": [],
   "source": [
    "newtrainX_w = trainX @ (extra / np.sqrt(abs(extra)))\n",
    "newtestX_w = testX @ (extra / np.sqrt(abs(extra)))"
   ]
  },
  {
   "cell_type": "code",
   "execution_count": 14,
   "metadata": {},
   "outputs": [
    {
     "data": {
      "text/plain": [
       "422"
      ]
     },
     "execution_count": 14,
     "metadata": {},
     "output_type": "execute_result"
    }
   ],
   "source": [
    "new_new_vals = []\n",
    "for i in range(len(testY)):\n",
    "    new_new_vals.append(KNN(newtestX_w[i], newtrainX_w))\n",
    "len(new_new_vals)"
   ]
  },
  {
   "cell_type": "code",
   "execution_count": 16,
   "metadata": {},
   "outputs": [
    {
     "name": "stdout",
     "output_type": "stream",
     "text": [
      "Accuracy for k = 1 and D = 100, with PCA(whitened) is 26.0%\n"
     ]
    }
   ],
   "source": [
    "acc3 = get_accuracy(testY, new_new_vals)\n",
    "print(f'Accuracy for k = 1 and D = 100, with PCA(whitened) is {round(acc3 * 100, 2)}%')"
   ]
  },
  {
   "cell_type": "markdown",
   "metadata": {},
   "source": [
    "I don't know why but most(>90%) of the times I get all accuracies = 0, I am including an instance where all of them were not zero in my report"
   ]
  }
 ],
 "metadata": {
  "kernelspec": {
   "display_name": "Python 3",
   "language": "python",
   "name": "python3"
  },
  "language_info": {
   "codemirror_mode": {
    "name": "ipython",
    "version": 3
   },
   "file_extension": ".py",
   "mimetype": "text/x-python",
   "name": "python",
   "nbconvert_exporter": "python",
   "pygments_lexer": "ipython3",
   "version": "3.8.5"
  }
 },
 "nbformat": 4,
 "nbformat_minor": 4
}
