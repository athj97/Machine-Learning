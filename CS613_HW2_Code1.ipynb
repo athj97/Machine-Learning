{
 "cells": [
  {
   "cell_type": "markdown",
   "metadata": {},
   "source": [
    "# Spambase Logistic Regression Classifier"
   ]
  },
  {
   "cell_type": "code",
   "execution_count": 1,
   "metadata": {},
   "outputs": [],
   "source": [
    "import pandas as pd\n",
    "import numpy as np\n",
    "from sklearn.model_selection import train_test_split\n",
    "import matplotlib.pyplot as plt\n",
    "import math\n",
    "import random\n",
    "import warnings#This was necessary, you'll know soon enough"
   ]
  },
  {
   "cell_type": "code",
   "execution_count": 2,
   "metadata": {},
   "outputs": [
    {
     "data": {
      "text/html": [
       "<div>\n",
       "<style scoped>\n",
       "    .dataframe tbody tr th:only-of-type {\n",
       "        vertical-align: middle;\n",
       "    }\n",
       "\n",
       "    .dataframe tbody tr th {\n",
       "        vertical-align: top;\n",
       "    }\n",
       "\n",
       "    .dataframe thead th {\n",
       "        text-align: right;\n",
       "    }\n",
       "</style>\n",
       "<table border=\"1\" class=\"dataframe\">\n",
       "  <thead>\n",
       "    <tr style=\"text-align: right;\">\n",
       "      <th></th>\n",
       "      <th>0</th>\n",
       "      <th>1</th>\n",
       "      <th>2</th>\n",
       "      <th>3</th>\n",
       "      <th>4</th>\n",
       "      <th>5</th>\n",
       "      <th>6</th>\n",
       "      <th>7</th>\n",
       "      <th>8</th>\n",
       "      <th>9</th>\n",
       "      <th>...</th>\n",
       "      <th>48</th>\n",
       "      <th>49</th>\n",
       "      <th>50</th>\n",
       "      <th>51</th>\n",
       "      <th>52</th>\n",
       "      <th>53</th>\n",
       "      <th>54</th>\n",
       "      <th>55</th>\n",
       "      <th>56</th>\n",
       "      <th>57</th>\n",
       "    </tr>\n",
       "  </thead>\n",
       "  <tbody>\n",
       "    <tr>\n",
       "      <th>0</th>\n",
       "      <td>0.00</td>\n",
       "      <td>0.64</td>\n",
       "      <td>0.64</td>\n",
       "      <td>0.0</td>\n",
       "      <td>0.32</td>\n",
       "      <td>0.00</td>\n",
       "      <td>0.00</td>\n",
       "      <td>0.00</td>\n",
       "      <td>0.00</td>\n",
       "      <td>0.00</td>\n",
       "      <td>...</td>\n",
       "      <td>0.00</td>\n",
       "      <td>0.000</td>\n",
       "      <td>0.0</td>\n",
       "      <td>0.778</td>\n",
       "      <td>0.000</td>\n",
       "      <td>0.000</td>\n",
       "      <td>3.756</td>\n",
       "      <td>61</td>\n",
       "      <td>278</td>\n",
       "      <td>1</td>\n",
       "    </tr>\n",
       "    <tr>\n",
       "      <th>1</th>\n",
       "      <td>0.21</td>\n",
       "      <td>0.28</td>\n",
       "      <td>0.50</td>\n",
       "      <td>0.0</td>\n",
       "      <td>0.14</td>\n",
       "      <td>0.28</td>\n",
       "      <td>0.21</td>\n",
       "      <td>0.07</td>\n",
       "      <td>0.00</td>\n",
       "      <td>0.94</td>\n",
       "      <td>...</td>\n",
       "      <td>0.00</td>\n",
       "      <td>0.132</td>\n",
       "      <td>0.0</td>\n",
       "      <td>0.372</td>\n",
       "      <td>0.180</td>\n",
       "      <td>0.048</td>\n",
       "      <td>5.114</td>\n",
       "      <td>101</td>\n",
       "      <td>1028</td>\n",
       "      <td>1</td>\n",
       "    </tr>\n",
       "    <tr>\n",
       "      <th>2</th>\n",
       "      <td>0.06</td>\n",
       "      <td>0.00</td>\n",
       "      <td>0.71</td>\n",
       "      <td>0.0</td>\n",
       "      <td>1.23</td>\n",
       "      <td>0.19</td>\n",
       "      <td>0.19</td>\n",
       "      <td>0.12</td>\n",
       "      <td>0.64</td>\n",
       "      <td>0.25</td>\n",
       "      <td>...</td>\n",
       "      <td>0.01</td>\n",
       "      <td>0.143</td>\n",
       "      <td>0.0</td>\n",
       "      <td>0.276</td>\n",
       "      <td>0.184</td>\n",
       "      <td>0.010</td>\n",
       "      <td>9.821</td>\n",
       "      <td>485</td>\n",
       "      <td>2259</td>\n",
       "      <td>1</td>\n",
       "    </tr>\n",
       "    <tr>\n",
       "      <th>3</th>\n",
       "      <td>0.00</td>\n",
       "      <td>0.00</td>\n",
       "      <td>0.00</td>\n",
       "      <td>0.0</td>\n",
       "      <td>0.63</td>\n",
       "      <td>0.00</td>\n",
       "      <td>0.31</td>\n",
       "      <td>0.63</td>\n",
       "      <td>0.31</td>\n",
       "      <td>0.63</td>\n",
       "      <td>...</td>\n",
       "      <td>0.00</td>\n",
       "      <td>0.137</td>\n",
       "      <td>0.0</td>\n",
       "      <td>0.137</td>\n",
       "      <td>0.000</td>\n",
       "      <td>0.000</td>\n",
       "      <td>3.537</td>\n",
       "      <td>40</td>\n",
       "      <td>191</td>\n",
       "      <td>1</td>\n",
       "    </tr>\n",
       "    <tr>\n",
       "      <th>4</th>\n",
       "      <td>0.00</td>\n",
       "      <td>0.00</td>\n",
       "      <td>0.00</td>\n",
       "      <td>0.0</td>\n",
       "      <td>0.63</td>\n",
       "      <td>0.00</td>\n",
       "      <td>0.31</td>\n",
       "      <td>0.63</td>\n",
       "      <td>0.31</td>\n",
       "      <td>0.63</td>\n",
       "      <td>...</td>\n",
       "      <td>0.00</td>\n",
       "      <td>0.135</td>\n",
       "      <td>0.0</td>\n",
       "      <td>0.135</td>\n",
       "      <td>0.000</td>\n",
       "      <td>0.000</td>\n",
       "      <td>3.537</td>\n",
       "      <td>40</td>\n",
       "      <td>191</td>\n",
       "      <td>1</td>\n",
       "    </tr>\n",
       "  </tbody>\n",
       "</table>\n",
       "<p>5 rows × 58 columns</p>\n",
       "</div>"
      ],
      "text/plain": [
       "     0     1     2    3     4     5     6     7     8     9   ...    48  \\\n",
       "0  0.00  0.64  0.64  0.0  0.32  0.00  0.00  0.00  0.00  0.00  ...  0.00   \n",
       "1  0.21  0.28  0.50  0.0  0.14  0.28  0.21  0.07  0.00  0.94  ...  0.00   \n",
       "2  0.06  0.00  0.71  0.0  1.23  0.19  0.19  0.12  0.64  0.25  ...  0.01   \n",
       "3  0.00  0.00  0.00  0.0  0.63  0.00  0.31  0.63  0.31  0.63  ...  0.00   \n",
       "4  0.00  0.00  0.00  0.0  0.63  0.00  0.31  0.63  0.31  0.63  ...  0.00   \n",
       "\n",
       "      49   50     51     52     53     54   55    56  57  \n",
       "0  0.000  0.0  0.778  0.000  0.000  3.756   61   278   1  \n",
       "1  0.132  0.0  0.372  0.180  0.048  5.114  101  1028   1  \n",
       "2  0.143  0.0  0.276  0.184  0.010  9.821  485  2259   1  \n",
       "3  0.137  0.0  0.137  0.000  0.000  3.537   40   191   1  \n",
       "4  0.135  0.0  0.135  0.000  0.000  3.537   40   191   1  \n",
       "\n",
       "[5 rows x 58 columns]"
      ]
     },
     "execution_count": 2,
     "metadata": {},
     "output_type": "execute_result"
    }
   ],
   "source": [
    "#Reading data\n",
    "f = pd.read_csv('spambase.data', header = None)\n",
    "f.head()"
   ]
  },
  {
   "cell_type": "code",
   "execution_count": 3,
   "metadata": {},
   "outputs": [
    {
     "data": {
      "text/html": [
       "<div>\n",
       "<style scoped>\n",
       "    .dataframe tbody tr th:only-of-type {\n",
       "        vertical-align: middle;\n",
       "    }\n",
       "\n",
       "    .dataframe tbody tr th {\n",
       "        vertical-align: top;\n",
       "    }\n",
       "\n",
       "    .dataframe thead th {\n",
       "        text-align: right;\n",
       "    }\n",
       "</style>\n",
       "<table border=\"1\" class=\"dataframe\">\n",
       "  <thead>\n",
       "    <tr style=\"text-align: right;\">\n",
       "      <th></th>\n",
       "      <th>0</th>\n",
       "      <th>1</th>\n",
       "      <th>2</th>\n",
       "      <th>3</th>\n",
       "      <th>4</th>\n",
       "      <th>5</th>\n",
       "      <th>6</th>\n",
       "      <th>7</th>\n",
       "      <th>8</th>\n",
       "      <th>9</th>\n",
       "      <th>...</th>\n",
       "      <th>48</th>\n",
       "      <th>49</th>\n",
       "      <th>50</th>\n",
       "      <th>51</th>\n",
       "      <th>52</th>\n",
       "      <th>53</th>\n",
       "      <th>54</th>\n",
       "      <th>55</th>\n",
       "      <th>56</th>\n",
       "      <th>57</th>\n",
       "    </tr>\n",
       "  </thead>\n",
       "  <tbody>\n",
       "    <tr>\n",
       "      <th>2728</th>\n",
       "      <td>0.00</td>\n",
       "      <td>0.0</td>\n",
       "      <td>0.00</td>\n",
       "      <td>0.0</td>\n",
       "      <td>0.0</td>\n",
       "      <td>0.00</td>\n",
       "      <td>0.0</td>\n",
       "      <td>0.00</td>\n",
       "      <td>0.00</td>\n",
       "      <td>0.00</td>\n",
       "      <td>...</td>\n",
       "      <td>0.000</td>\n",
       "      <td>0.000</td>\n",
       "      <td>0.000</td>\n",
       "      <td>0.000</td>\n",
       "      <td>0.000</td>\n",
       "      <td>0.000</td>\n",
       "      <td>1.000</td>\n",
       "      <td>1</td>\n",
       "      <td>5</td>\n",
       "      <td>0</td>\n",
       "    </tr>\n",
       "    <tr>\n",
       "      <th>876</th>\n",
       "      <td>0.00</td>\n",
       "      <td>0.0</td>\n",
       "      <td>0.00</td>\n",
       "      <td>0.0</td>\n",
       "      <td>0.0</td>\n",
       "      <td>0.00</td>\n",
       "      <td>0.0</td>\n",
       "      <td>0.00</td>\n",
       "      <td>0.00</td>\n",
       "      <td>0.00</td>\n",
       "      <td>...</td>\n",
       "      <td>0.000</td>\n",
       "      <td>0.000</td>\n",
       "      <td>0.000</td>\n",
       "      <td>0.000</td>\n",
       "      <td>0.000</td>\n",
       "      <td>0.000</td>\n",
       "      <td>1.000</td>\n",
       "      <td>1</td>\n",
       "      <td>5</td>\n",
       "      <td>1</td>\n",
       "    </tr>\n",
       "    <tr>\n",
       "      <th>3542</th>\n",
       "      <td>0.67</td>\n",
       "      <td>0.0</td>\n",
       "      <td>0.00</td>\n",
       "      <td>0.0</td>\n",
       "      <td>0.0</td>\n",
       "      <td>0.00</td>\n",
       "      <td>0.0</td>\n",
       "      <td>0.00</td>\n",
       "      <td>0.33</td>\n",
       "      <td>0.33</td>\n",
       "      <td>...</td>\n",
       "      <td>0.056</td>\n",
       "      <td>0.280</td>\n",
       "      <td>0.168</td>\n",
       "      <td>0.056</td>\n",
       "      <td>0.000</td>\n",
       "      <td>0.000</td>\n",
       "      <td>1.866</td>\n",
       "      <td>17</td>\n",
       "      <td>112</td>\n",
       "      <td>0</td>\n",
       "    </tr>\n",
       "    <tr>\n",
       "      <th>898</th>\n",
       "      <td>0.00</td>\n",
       "      <td>0.0</td>\n",
       "      <td>0.55</td>\n",
       "      <td>0.0</td>\n",
       "      <td>0.0</td>\n",
       "      <td>0.55</td>\n",
       "      <td>0.0</td>\n",
       "      <td>0.27</td>\n",
       "      <td>0.00</td>\n",
       "      <td>0.00</td>\n",
       "      <td>...</td>\n",
       "      <td>0.000</td>\n",
       "      <td>0.194</td>\n",
       "      <td>0.000</td>\n",
       "      <td>0.582</td>\n",
       "      <td>0.291</td>\n",
       "      <td>0.582</td>\n",
       "      <td>2.309</td>\n",
       "      <td>35</td>\n",
       "      <td>291</td>\n",
       "      <td>1</td>\n",
       "    </tr>\n",
       "    <tr>\n",
       "      <th>3373</th>\n",
       "      <td>0.00</td>\n",
       "      <td>0.0</td>\n",
       "      <td>0.00</td>\n",
       "      <td>0.0</td>\n",
       "      <td>0.0</td>\n",
       "      <td>0.00</td>\n",
       "      <td>0.0</td>\n",
       "      <td>0.00</td>\n",
       "      <td>0.00</td>\n",
       "      <td>0.00</td>\n",
       "      <td>...</td>\n",
       "      <td>0.000</td>\n",
       "      <td>0.000</td>\n",
       "      <td>0.000</td>\n",
       "      <td>0.000</td>\n",
       "      <td>0.000</td>\n",
       "      <td>0.000</td>\n",
       "      <td>1.000</td>\n",
       "      <td>1</td>\n",
       "      <td>7</td>\n",
       "      <td>0</td>\n",
       "    </tr>\n",
       "  </tbody>\n",
       "</table>\n",
       "<p>5 rows × 58 columns</p>\n",
       "</div>"
      ],
      "text/plain": [
       "        0    1     2    3    4     5    6     7     8     9   ...     48  \\\n",
       "2728  0.00  0.0  0.00  0.0  0.0  0.00  0.0  0.00  0.00  0.00  ...  0.000   \n",
       "876   0.00  0.0  0.00  0.0  0.0  0.00  0.0  0.00  0.00  0.00  ...  0.000   \n",
       "3542  0.67  0.0  0.00  0.0  0.0  0.00  0.0  0.00  0.33  0.33  ...  0.056   \n",
       "898   0.00  0.0  0.55  0.0  0.0  0.55  0.0  0.27  0.00  0.00  ...  0.000   \n",
       "3373  0.00  0.0  0.00  0.0  0.0  0.00  0.0  0.00  0.00  0.00  ...  0.000   \n",
       "\n",
       "         49     50     51     52     53     54  55   56  57  \n",
       "2728  0.000  0.000  0.000  0.000  0.000  1.000   1    5   0  \n",
       "876   0.000  0.000  0.000  0.000  0.000  1.000   1    5   1  \n",
       "3542  0.280  0.168  0.056  0.000  0.000  1.866  17  112   0  \n",
       "898   0.194  0.000  0.582  0.291  0.582  2.309  35  291   1  \n",
       "3373  0.000  0.000  0.000  0.000  0.000  1.000   1    7   0  \n",
       "\n",
       "[5 rows x 58 columns]"
      ]
     },
     "execution_count": 3,
     "metadata": {},
     "output_type": "execute_result"
    }
   ],
   "source": [
    "random.seed(0)\n",
    "training_data, test_data = train_test_split(f, train_size = 2/3)#Shuffles data and splits it, ~2/3rd for training\n",
    "test_data.head()#Testing"
   ]
  },
  {
   "cell_type": "code",
   "execution_count": 4,
   "metadata": {},
   "outputs": [],
   "source": [
    "y_train = training_data.iloc[:, -1].to_numpy().reshape(-1, 1)\n",
    "#del training_data.iloc[:, -1]\n",
    "y_test = test_data.iloc[:, -1].to_numpy().reshape(-1, 1)\n",
    "#del test_data[:, -1]"
   ]
  },
  {
   "cell_type": "code",
   "execution_count": 5,
   "metadata": {},
   "outputs": [
    {
     "data": {
      "text/plain": [
       "(numpy.ndarray, numpy.ndarray)"
      ]
     },
     "execution_count": 5,
     "metadata": {},
     "output_type": "execute_result"
    }
   ],
   "source": [
    "type(y_train), type(y_test)"
   ]
  },
  {
   "cell_type": "code",
   "execution_count": 6,
   "metadata": {},
   "outputs": [
    {
     "data": {
      "text/plain": [
       "numpy.ndarray"
      ]
     },
     "execution_count": 6,
     "metadata": {},
     "output_type": "execute_result"
    }
   ],
   "source": [
    "#Bias terms\n",
    "bias_training = np.ones(training_data.shape[0]).reshape(-1, 1)\n",
    "bias_test = np.ones(test_data.shape[0]).reshape(-1, 1)\n",
    "type(bias_training)"
   ]
  },
  {
   "cell_type": "code",
   "execution_count": 7,
   "metadata": {},
   "outputs": [],
   "source": [
    "def Zscore(x, dataset):\n",
    "    for i in range(dataset.shape[1] - 1):\n",
    "        col = dataset.iloc[:, i].to_numpy()\n",
    "        temp = (col - np.mean(col))/ (np.std(col, ddof = 1))\n",
    "        x = np.append(x, temp.reshape(-1, 1), axis = 1)\n",
    "    return x "
   ]
  },
  {
   "cell_type": "code",
   "execution_count": 8,
   "metadata": {},
   "outputs": [
    {
     "data": {
      "text/plain": [
       "array([[ 1.        , -0.35040383, -0.16242517, ..., -0.11646204,\n",
       "        -0.35637883, -0.40149726],\n",
       "       [ 1.        , -0.35040383, -0.16242517, ..., -0.05120715,\n",
       "        -0.32629374, -0.32100231],\n",
       "       [ 1.        , -0.35040383, -0.16242517, ..., -0.10063061,\n",
       "        -0.13826193,  1.04248366],\n",
       "       ...,\n",
       "       [ 1.        , -0.35040383, -0.16242517, ..., -0.11018459,\n",
       "        -0.30372992, -0.20765227],\n",
       "       [ 1.        , -0.35040383, -0.16242517, ..., -0.03828478,\n",
       "        -0.2811661 , -0.32428782],\n",
       "       [ 1.        , -0.05215539,  0.21312665, ...,  0.01965152,\n",
       "         0.02720606,  0.78457125]])"
      ]
     },
     "execution_count": 8,
     "metadata": {},
     "output_type": "execute_result"
    }
   ],
   "source": [
    "zscored_training_data = Zscore(bias_training, training_data)\n",
    "zscored_test_data = Zscore(bias_test, test_data)\n",
    "zscored_training_data#Testing"
   ]
  },
  {
   "cell_type": "code",
   "execution_count": 9,
   "metadata": {},
   "outputs": [
    {
     "data": {
      "text/plain": [
       "(-0.6879074212949513, -0.689359521557515)"
      ]
     },
     "execution_count": 9,
     "metadata": {},
     "output_type": "execute_result"
    }
   ],
   "source": [
    "np.random.seed(0)\n",
    "w = np.random.uniform(-0.01, 0.01, zscored_training_data.shape[1]).reshape(-1,1)#This is omega\n",
    "\n",
    "y_hat_train = 1 / (1 + np.exp(-zscored_training_data.dot(w)))\n",
    "J_train = np.mean(y_train * np.log(y_hat_train) + (1 - y_train) * np.log(1 - y_hat_train))\n",
    "\n",
    "y_hat_test = 1 / (1 + np.exp(-zscored_test_data.dot(w)))\n",
    "J_test = np.mean(y_test * np.log(y_hat_test) +(1 - y_test) * np.log(1 - y_hat_test))\n",
    "J_train, J_test#Testing"
   ]
  },
  {
   "cell_type": "code",
   "execution_count": 10,
   "metadata": {},
   "outputs": [],
   "source": [
    "warnings.filterwarnings(\"ignore\", category = RuntimeWarning)#I get Runtimewarnings here, due to issues like log(0)\n",
    "\n",
    "count = 0\n",
    "per_change = 1\n",
    "\n",
    "J_train_list = [J_train]\n",
    "J_test_list = [J_test]\n",
    "while count < 1500 and per_change >= 2 ** -32:\n",
    "    w = w + (10 ** -4) * (np.transpose(zscored_training_data).dot(y_train - y_hat_train))#Only difference here is the plus sign\n",
    "    y_hat_train = 1 / (1 + np.exp(-zscored_training_data.dot(w)))\n",
    "    J_temp_train = np.mean(y_train * np.log(y_hat_train) + (1 - y_train) * np.log(1 - y_hat_train))\n",
    "    J_train_list.append(np.mean(J_temp_train))\n",
    "\n",
    "    per_change = (J_train - J_temp_train) / J_temp_train\n",
    "    J_train = J_temp_train\n",
    "\n",
    "    y_hat_test = 1 / (1 + np.exp(-zscored_test_data.dot(w)))\n",
    "    J_test_temp = np.mean(y_test * np.log(y_hat_test) +(1 - y_test) * np.log(1 - y_hat_test))\n",
    "    J_test_list.append(J_test_temp)\n",
    "    count += 1"
   ]
  },
  {
   "cell_type": "code",
   "execution_count": 11,
   "metadata": {},
   "outputs": [
    {
     "data": {
      "text/plain": [
       "1500"
      ]
     },
     "execution_count": 11,
     "metadata": {},
     "output_type": "execute_result"
    }
   ],
   "source": [
    "count#Testing"
   ]
  },
  {
   "cell_type": "markdown",
   "metadata": {},
   "source": [
    "Sometimes count is really low, but I have found that the lowest it can get is around 200(trial and error)"
   ]
  },
  {
   "cell_type": "code",
   "execution_count": 12,
   "metadata": {},
   "outputs": [
    {
     "data": {
      "text/plain": [
       "([-0.6879074212949513,\n",
       "  -0.5635472760734401,\n",
       "  -0.4977430362545677,\n",
       "  -0.4560309477158197,\n",
       "  -0.4268392836948575,\n",
       "  -0.40507557369668407,\n",
       "  -0.3881237992205142,\n",
       "  -0.3744891406341852,\n",
       "  -0.3632490829771251,\n",
       "  -0.35380028676304204,\n",
       "  -0.34572989089532213,\n",
       "  -0.33874494337831973,\n",
       "  -0.33263130657150924,\n",
       "  -0.3272285246600419,\n",
       "  -0.3224138149067699,\n",
       "  -0.31809151426364074,\n",
       "  -0.3141859149033019,\n",
       "  -0.31063627520061465,\n",
       "  -0.30739326757207536,\n",
       "  -0.304416399358538],\n",
       " 1501)"
      ]
     },
     "execution_count": 12,
     "metadata": {},
     "output_type": "execute_result"
    }
   ],
   "source": [
    "J_train_list[:20], len(J_train_list)#Testing"
   ]
  },
  {
   "cell_type": "code",
   "execution_count": 13,
   "metadata": {},
   "outputs": [
    {
     "data": {
      "text/plain": [
       "([-0.689359521557515,\n",
       "  -0.571015571968716,\n",
       "  -0.5073413542818471,\n",
       "  -0.4666649501717573,\n",
       "  -0.4381016927549654,\n",
       "  -0.416782044434111,\n",
       "  -0.40017659782445636,\n",
       "  -0.3868293707739203,\n",
       "  -0.37583742332797376,\n",
       "  -0.36660830136252875,\n",
       "  -0.3587357298488818,\n",
       "  -0.35193104264622177,\n",
       "  -0.34598307074989704,\n",
       "  -0.34073352592310635,\n",
       "  -0.33606127895021365,\n",
       "  -0.331871974146265,\n",
       "  -0.32809096770227403,\n",
       "  -0.32465840429115495,\n",
       "  -0.3215257084088278,\n",
       "  -0.3186530351072864],\n",
       " 1501)"
      ]
     },
     "execution_count": 13,
     "metadata": {},
     "output_type": "execute_result"
    }
   ],
   "source": [
    "J_test_list[:20], len(J_test_list)#Testing"
   ]
  },
  {
   "cell_type": "code",
   "execution_count": 14,
   "metadata": {},
   "outputs": [
    {
     "data": {
      "text/plain": [
       "748"
      ]
     },
     "execution_count": 14,
     "metadata": {},
     "output_type": "execute_result"
    }
   ],
   "source": [
    "#To avoid plotting NaN values\n",
    "temp1 = 0\n",
    "for i in range(len(J_train_list)):\n",
    "    if not math.isnan(J_train_list[i]):\n",
    "        temp1 = i\n",
    "\n",
    "temp2 = 0\n",
    "for j in range(len(J_test_list)):\n",
    "    if not math.isnan(J_test_list[j]):\n",
    "        temp2 = j\n",
    "length = min(temp1, temp2)\n",
    "length"
   ]
  },
  {
   "cell_type": "code",
   "execution_count": 15,
   "metadata": {},
   "outputs": [
    {
     "data": {
      "text/plain": [
       "<matplotlib.legend.Legend at 0x298940a5f10>"
      ]
     },
     "execution_count": 15,
     "metadata": {},
     "output_type": "execute_result"
    },
    {
     "data": {
      "image/png": "[encoded data removed]",
      "text/plain": [
       "<Figure size 432x288 with 1 Axes>"
      ]
     },
     "metadata": {
      "needs_background": "light"
     },
     "output_type": "display_data"
    }
   ],
   "source": [
    "%matplotlib inline\n",
    "fig1 = plt.figure().add_axes([0, 0, 1, 1])\n",
    "fig1.plot([i for i in range(length)], J_train_list[:length], label = 'Training')#Plotting valid values only\n",
    "fig1.set_xlabel('Epoch')\n",
    "fig1.plot([i for i in range(length)], J_test_list[:length], label = 'Validation', linestyle = 'dashed')#Plotting valid values only\n",
    "fig1.set_ylabel('Mean Log Likelyhood')\n",
    "fig1.legend()"
   ]
  },
  {
   "cell_type": "markdown",
   "metadata": {},
   "source": [
    "The plot can overlap sometimes, rerun(starting from the top) proves to be useful."
   ]
  },
  {
   "cell_type": "code",
   "execution_count": 16,
   "metadata": {},
   "outputs": [],
   "source": [
    "def calc_precision(t, l):\n",
    "    Tpositive = 0\n",
    "    Fpositive = 0\n",
    "    Fnegative = 0\n",
    "    for i in range(l):\n",
    "        if y_test[i] == 1 and y_hat_test[i] >= t:\n",
    "            Tpositive += 1\n",
    "        elif y_test[i] == 0 and y_hat_test[i] >= t:\n",
    "            Fpositive += 1\n",
    "        elif y_test[i] == 1 and y_hat_test[i] < t:\n",
    "            Fnegative += 1\n",
    "    if Fpositive + Fpositive == 0:\n",
    "        precision = 1\n",
    "    else:\n",
    "        precision = Tpositive / (Tpositive + Fpositive)\n",
    "    recall = Tpositive / (Tpositive + Fnegative)\n",
    "    return precision, recall"
   ]
  },
  {
   "cell_type": "code",
   "execution_count": 17,
   "metadata": {},
   "outputs": [
    {
     "name": "stdout",
     "output_type": "stream",
     "text": [
      "F-score : 0.8968 or 89.68%\n",
      "Precision : 0.9141 or 91.41%\n",
      "Recall : 0.8801 or 88.01%\n"
     ]
    }
   ],
   "source": [
    "l = y_test.shape[0]\n",
    "precision, recall = calc_precision(0.5, l)\n",
    "F_measure = 2 * precision * recall / (precision + recall)\n",
    "\n",
    "precision_list = []\n",
    "recall_list = []\n",
    "thresholds = np.linspace(0.0, 1.0, num = 11, endpoint = True)\n",
    "\n",
    "for i in thresholds:\n",
    "    precision_tmp, recall_tmp = calc_precision(i, l)\n",
    "    precision_list.append(precision_tmp)\n",
    "    recall_list.append(recall_tmp)\n",
    "#print(precision_list,'\\n', recall_list)\n",
    "print(f'F-score : {F_measure:.4} or {F_measure * 100:.4}%')\n",
    "print(f'Precision : {precision:.4} or {precision * 100:.4}%')\n",
    "print(f'Recall : {recall:.4} or {recall * 100:.4}%')"
   ]
  },
  {
   "cell_type": "code",
   "execution_count": 18,
   "metadata": {},
   "outputs": [
    {
     "name": "stdout",
     "output_type": "stream",
     "text": [
      "Accuracy is 91.85%\n",
      "Good enough!!\n"
     ]
    }
   ],
   "source": [
    "#Calculating accuracy\n",
    "x = 0\n",
    "for i in range(test_data.shape[0]):\n",
    "    if y_test[i] == 1 and y_hat_test[i] >= 0.5:\n",
    "        x += 1\n",
    "    elif y_test[i] == 0 and y_hat_test[i] < 0.5:\n",
    "        x += 1\n",
    "        \n",
    "z = x / test_data.shape[0]\n",
    "print(f'Accuracy is {z * 100:.4}%')\n",
    "if z * 100 >= 90:\n",
    "    print('Good enough!!')\n",
    "else:\n",
    "    print('Not looking good')"
   ]
  },
  {
   "cell_type": "code",
   "execution_count": 19,
   "metadata": {},
   "outputs": [
    {
     "data": {
      "text/plain": [
       "Text(0, 0.5, 'Precision')"
      ]
     },
     "execution_count": 19,
     "metadata": {},
     "output_type": "execute_result"
    },
    {
     "data": {
      "image/png": "[encoded data removed]",
      "text/plain": [
       "<Figure size 432x288 with 1 Axes>"
      ]
     },
     "metadata": {
      "needs_background": "light"
     },
     "output_type": "display_data"
    }
   ],
   "source": [
    "#Plotting\n",
    "%matplotlib inline\n",
    "fig2 = plt.figure().add_axes([0, 0, 1, 1])\n",
    "fig2.plot(recall_list, precision_list)\n",
    "fig2.set_xlabel('Recall')\n",
    "fig2.set_ylabel('Precision')"
   ]
  }
 ],
 "metadata": {
  "kernelspec": {
   "display_name": "Python 3",
   "language": "python",
   "name": "python3"
  },
  "language_info": {
   "codemirror_mode": {
    "name": "ipython",
    "version": 3
   },
   "file_extension": ".py",
   "mimetype": "text/x-python",
   "name": "python",
   "nbconvert_exporter": "python",
   "pygments_lexer": "ipython3",
   "version": "3.8.5"
  }
 },
 "nbformat": 4,
 "nbformat_minor": 4
}
