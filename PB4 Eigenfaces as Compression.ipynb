{
 "cells": [
  {
   "cell_type": "code",
   "execution_count": 1,
   "metadata": {},
   "outputs": [],
   "source": [
    "import pandas as pd\n",
    "import numpy as np\n",
    "import matplotlib.pyplot as plt"
   ]
  },
  {
   "cell_type": "code",
   "execution_count": 2,
   "metadata": {},
   "outputs": [
    {
     "data": {
      "text/html": [
       "<div>\n",
       "<style scoped>\n",
       "    .dataframe tbody tr th:only-of-type {\n",
       "        vertical-align: middle;\n",
       "    }\n",
       "\n",
       "    .dataframe tbody tr th {\n",
       "        vertical-align: top;\n",
       "    }\n",
       "\n",
       "    .dataframe thead th {\n",
       "        text-align: right;\n",
       "    }\n",
       "</style>\n",
       "<table border=\"1\" class=\"dataframe\">\n",
       "  <thead>\n",
       "    <tr style=\"text-align: right;\">\n",
       "      <th></th>\n",
       "      <th>0</th>\n",
       "      <th>1</th>\n",
       "      <th>2</th>\n",
       "      <th>3</th>\n",
       "      <th>4</th>\n",
       "      <th>5</th>\n",
       "      <th>6</th>\n",
       "      <th>7</th>\n",
       "      <th>8</th>\n",
       "      <th>9</th>\n",
       "      <th>...</th>\n",
       "      <th>5646</th>\n",
       "      <th>5647</th>\n",
       "      <th>5648</th>\n",
       "      <th>5649</th>\n",
       "      <th>5650</th>\n",
       "      <th>5651</th>\n",
       "      <th>5652</th>\n",
       "      <th>5653</th>\n",
       "      <th>5654</th>\n",
       "      <th>5655</th>\n",
       "    </tr>\n",
       "  </thead>\n",
       "  <tbody>\n",
       "    <tr>\n",
       "      <th>0</th>\n",
       "      <td>0</td>\n",
       "      <td>45.0</td>\n",
       "      <td>46.000</td>\n",
       "      <td>44.0000</td>\n",
       "      <td>43.000</td>\n",
       "      <td>44.333</td>\n",
       "      <td>46.667</td>\n",
       "      <td>50.667</td>\n",
       "      <td>57.000</td>\n",
       "      <td>62.000</td>\n",
       "      <td>...</td>\n",
       "      <td>165.67</td>\n",
       "      <td>179.670</td>\n",
       "      <td>181.330</td>\n",
       "      <td>178.670</td>\n",
       "      <td>173.330</td>\n",
       "      <td>171.330</td>\n",
       "      <td>158.670</td>\n",
       "      <td>113.000</td>\n",
       "      <td>70.000</td>\n",
       "      <td>57.333</td>\n",
       "    </tr>\n",
       "    <tr>\n",
       "      <th>1</th>\n",
       "      <td>0</td>\n",
       "      <td>10.0</td>\n",
       "      <td>9.000</td>\n",
       "      <td>5.6667</td>\n",
       "      <td>5.000</td>\n",
       "      <td>7.000</td>\n",
       "      <td>10.000</td>\n",
       "      <td>16.000</td>\n",
       "      <td>18.000</td>\n",
       "      <td>20.667</td>\n",
       "      <td>...</td>\n",
       "      <td>121.33</td>\n",
       "      <td>113.000</td>\n",
       "      <td>94.000</td>\n",
       "      <td>63.000</td>\n",
       "      <td>31.000</td>\n",
       "      <td>20.667</td>\n",
       "      <td>21.333</td>\n",
       "      <td>20.667</td>\n",
       "      <td>20.333</td>\n",
       "      <td>23.000</td>\n",
       "    </tr>\n",
       "    <tr>\n",
       "      <th>2</th>\n",
       "      <td>0</td>\n",
       "      <td>15.0</td>\n",
       "      <td>18.667</td>\n",
       "      <td>16.6670</td>\n",
       "      <td>20.000</td>\n",
       "      <td>27.333</td>\n",
       "      <td>34.000</td>\n",
       "      <td>39.000</td>\n",
       "      <td>50.667</td>\n",
       "      <td>69.667</td>\n",
       "      <td>...</td>\n",
       "      <td>170.67</td>\n",
       "      <td>200.000</td>\n",
       "      <td>224.330</td>\n",
       "      <td>228.670</td>\n",
       "      <td>231.000</td>\n",
       "      <td>228.000</td>\n",
       "      <td>230.000</td>\n",
       "      <td>227.000</td>\n",
       "      <td>224.330</td>\n",
       "      <td>225.670</td>\n",
       "    </tr>\n",
       "    <tr>\n",
       "      <th>3</th>\n",
       "      <td>0</td>\n",
       "      <td>33.0</td>\n",
       "      <td>31.667</td>\n",
       "      <td>32.0000</td>\n",
       "      <td>31.333</td>\n",
       "      <td>32.333</td>\n",
       "      <td>38.333</td>\n",
       "      <td>41.333</td>\n",
       "      <td>42.000</td>\n",
       "      <td>52.667</td>\n",
       "      <td>...</td>\n",
       "      <td>50.00</td>\n",
       "      <td>50.333</td>\n",
       "      <td>50.333</td>\n",
       "      <td>50.333</td>\n",
       "      <td>50.667</td>\n",
       "      <td>50.667</td>\n",
       "      <td>50.667</td>\n",
       "      <td>50.333</td>\n",
       "      <td>50.000</td>\n",
       "      <td>50.000</td>\n",
       "    </tr>\n",
       "    <tr>\n",
       "      <th>4</th>\n",
       "      <td>0</td>\n",
       "      <td>33.0</td>\n",
       "      <td>33.333</td>\n",
       "      <td>29.6670</td>\n",
       "      <td>26.667</td>\n",
       "      <td>28.000</td>\n",
       "      <td>33.667</td>\n",
       "      <td>43.000</td>\n",
       "      <td>54.333</td>\n",
       "      <td>63.667</td>\n",
       "      <td>...</td>\n",
       "      <td>147.33</td>\n",
       "      <td>167.000</td>\n",
       "      <td>194.670</td>\n",
       "      <td>214.670</td>\n",
       "      <td>223.330</td>\n",
       "      <td>228.330</td>\n",
       "      <td>226.000</td>\n",
       "      <td>220.670</td>\n",
       "      <td>193.670</td>\n",
       "      <td>126.330</td>\n",
       "    </tr>\n",
       "  </tbody>\n",
       "</table>\n",
       "<p>5 rows × 5656 columns</p>\n",
       "</div>"
      ],
      "text/plain": [
       "   0     1       2        3       4       5       6       7       8     \\\n",
       "0     0  45.0  46.000  44.0000  43.000  44.333  46.667  50.667  57.000   \n",
       "1     0  10.0   9.000   5.6667   5.000   7.000  10.000  16.000  18.000   \n",
       "2     0  15.0  18.667  16.6670  20.000  27.333  34.000  39.000  50.667   \n",
       "3     0  33.0  31.667  32.0000  31.333  32.333  38.333  41.333  42.000   \n",
       "4     0  33.0  33.333  29.6670  26.667  28.000  33.667  43.000  54.333   \n",
       "\n",
       "     9     ...    5646     5647     5648     5649     5650     5651     5652  \\\n",
       "0  62.000  ...  165.67  179.670  181.330  178.670  173.330  171.330  158.670   \n",
       "1  20.667  ...  121.33  113.000   94.000   63.000   31.000   20.667   21.333   \n",
       "2  69.667  ...  170.67  200.000  224.330  228.670  231.000  228.000  230.000   \n",
       "3  52.667  ...   50.00   50.333   50.333   50.333   50.667   50.667   50.667   \n",
       "4  63.667  ...  147.33  167.000  194.670  214.670  223.330  228.330  226.000   \n",
       "\n",
       "      5653     5654     5655  \n",
       "0  113.000   70.000   57.333  \n",
       "1   20.667   20.333   23.000  \n",
       "2  227.000  224.330  225.670  \n",
       "3   50.333   50.000   50.000  \n",
       "4  220.670  193.670  126.330  \n",
       "\n",
       "[5 rows x 5656 columns]"
      ]
     },
     "execution_count": 2,
     "metadata": {},
     "output_type": "execute_result"
    }
   ],
   "source": [
    "f = pd.read_csv(\"lfw20.csv\", header = None)\n",
    "f.head()"
   ]
  },
  {
   "cell_type": "code",
   "execution_count": 3,
   "metadata": {},
   "outputs": [
    {
     "name": "stdout",
     "output_type": "stream",
     "text": [
      "[ 0.  0.  0. ... 61. 61. 61.]\n",
      "(1240, 5655) 0.18823529411764706\n"
     ]
    },
    {
     "data": {
      "text/html": [
       "<div>\n",
       "<style scoped>\n",
       "    .dataframe tbody tr th:only-of-type {\n",
       "        vertical-align: middle;\n",
       "    }\n",
       "\n",
       "    .dataframe tbody tr th {\n",
       "        vertical-align: top;\n",
       "    }\n",
       "\n",
       "    .dataframe thead th {\n",
       "        text-align: right;\n",
       "    }\n",
       "</style>\n",
       "<table border=\"1\" class=\"dataframe\">\n",
       "  <thead>\n",
       "    <tr style=\"text-align: right;\">\n",
       "      <th></th>\n",
       "      <th>0</th>\n",
       "      <th>1</th>\n",
       "      <th>2</th>\n",
       "      <th>3</th>\n",
       "      <th>4</th>\n",
       "      <th>5</th>\n",
       "      <th>6</th>\n",
       "      <th>7</th>\n",
       "      <th>8</th>\n",
       "      <th>9</th>\n",
       "      <th>...</th>\n",
       "      <th>5645</th>\n",
       "      <th>5646</th>\n",
       "      <th>5647</th>\n",
       "      <th>5648</th>\n",
       "      <th>5649</th>\n",
       "      <th>5650</th>\n",
       "      <th>5651</th>\n",
       "      <th>5652</th>\n",
       "      <th>5653</th>\n",
       "      <th>5654</th>\n",
       "    </tr>\n",
       "  </thead>\n",
       "  <tbody>\n",
       "    <tr>\n",
       "      <th>0</th>\n",
       "      <td>0.176471</td>\n",
       "      <td>0.180392</td>\n",
       "      <td>0.172549</td>\n",
       "      <td>0.168627</td>\n",
       "      <td>0.173855</td>\n",
       "      <td>0.183008</td>\n",
       "      <td>0.198694</td>\n",
       "      <td>0.223529</td>\n",
       "      <td>0.243137</td>\n",
       "      <td>0.250980</td>\n",
       "      <td>...</td>\n",
       "      <td>0.649686</td>\n",
       "      <td>0.704588</td>\n",
       "      <td>0.711098</td>\n",
       "      <td>0.700667</td>\n",
       "      <td>0.679725</td>\n",
       "      <td>0.671882</td>\n",
       "      <td>0.622235</td>\n",
       "      <td>0.443137</td>\n",
       "      <td>0.274510</td>\n",
       "      <td>0.224835</td>\n",
       "    </tr>\n",
       "    <tr>\n",
       "      <th>1</th>\n",
       "      <td>0.039216</td>\n",
       "      <td>0.035294</td>\n",
       "      <td>0.022222</td>\n",
       "      <td>0.019608</td>\n",
       "      <td>0.027451</td>\n",
       "      <td>0.039216</td>\n",
       "      <td>0.062745</td>\n",
       "      <td>0.070588</td>\n",
       "      <td>0.081047</td>\n",
       "      <td>0.116341</td>\n",
       "      <td>...</td>\n",
       "      <td>0.475804</td>\n",
       "      <td>0.443137</td>\n",
       "      <td>0.368627</td>\n",
       "      <td>0.247059</td>\n",
       "      <td>0.121569</td>\n",
       "      <td>0.081047</td>\n",
       "      <td>0.083659</td>\n",
       "      <td>0.081047</td>\n",
       "      <td>0.079737</td>\n",
       "      <td>0.090196</td>\n",
       "    </tr>\n",
       "    <tr>\n",
       "      <th>2</th>\n",
       "      <td>0.058824</td>\n",
       "      <td>0.073204</td>\n",
       "      <td>0.065361</td>\n",
       "      <td>0.078431</td>\n",
       "      <td>0.107188</td>\n",
       "      <td>0.133333</td>\n",
       "      <td>0.152941</td>\n",
       "      <td>0.198694</td>\n",
       "      <td>0.273204</td>\n",
       "      <td>0.345098</td>\n",
       "      <td>...</td>\n",
       "      <td>0.669294</td>\n",
       "      <td>0.784314</td>\n",
       "      <td>0.879725</td>\n",
       "      <td>0.896745</td>\n",
       "      <td>0.905882</td>\n",
       "      <td>0.894118</td>\n",
       "      <td>0.901961</td>\n",
       "      <td>0.890196</td>\n",
       "      <td>0.879725</td>\n",
       "      <td>0.884980</td>\n",
       "    </tr>\n",
       "    <tr>\n",
       "      <th>3</th>\n",
       "      <td>0.129412</td>\n",
       "      <td>0.124184</td>\n",
       "      <td>0.125490</td>\n",
       "      <td>0.122875</td>\n",
       "      <td>0.126796</td>\n",
       "      <td>0.150325</td>\n",
       "      <td>0.162090</td>\n",
       "      <td>0.164706</td>\n",
       "      <td>0.206537</td>\n",
       "      <td>0.258824</td>\n",
       "      <td>...</td>\n",
       "      <td>0.196078</td>\n",
       "      <td>0.197384</td>\n",
       "      <td>0.197384</td>\n",
       "      <td>0.197384</td>\n",
       "      <td>0.198694</td>\n",
       "      <td>0.198694</td>\n",
       "      <td>0.198694</td>\n",
       "      <td>0.197384</td>\n",
       "      <td>0.196078</td>\n",
       "      <td>0.196078</td>\n",
       "    </tr>\n",
       "    <tr>\n",
       "      <th>4</th>\n",
       "      <td>0.129412</td>\n",
       "      <td>0.130718</td>\n",
       "      <td>0.116341</td>\n",
       "      <td>0.104576</td>\n",
       "      <td>0.109804</td>\n",
       "      <td>0.132027</td>\n",
       "      <td>0.168627</td>\n",
       "      <td>0.213071</td>\n",
       "      <td>0.249675</td>\n",
       "      <td>0.290196</td>\n",
       "      <td>...</td>\n",
       "      <td>0.577765</td>\n",
       "      <td>0.654902</td>\n",
       "      <td>0.763412</td>\n",
       "      <td>0.841843</td>\n",
       "      <td>0.875804</td>\n",
       "      <td>0.895412</td>\n",
       "      <td>0.886275</td>\n",
       "      <td>0.865373</td>\n",
       "      <td>0.759490</td>\n",
       "      <td>0.495412</td>\n",
       "    </tr>\n",
       "  </tbody>\n",
       "</table>\n",
       "<p>5 rows × 5655 columns</p>\n",
       "</div>"
      ],
      "text/plain": [
       "       0         1         2         3         4         5         6     \\\n",
       "0  0.176471  0.180392  0.172549  0.168627  0.173855  0.183008  0.198694   \n",
       "1  0.039216  0.035294  0.022222  0.019608  0.027451  0.039216  0.062745   \n",
       "2  0.058824  0.073204  0.065361  0.078431  0.107188  0.133333  0.152941   \n",
       "3  0.129412  0.124184  0.125490  0.122875  0.126796  0.150325  0.162090   \n",
       "4  0.129412  0.130718  0.116341  0.104576  0.109804  0.132027  0.168627   \n",
       "\n",
       "       7         8         9     ...      5645      5646      5647      5648  \\\n",
       "0  0.223529  0.243137  0.250980  ...  0.649686  0.704588  0.711098  0.700667   \n",
       "1  0.070588  0.081047  0.116341  ...  0.475804  0.443137  0.368627  0.247059   \n",
       "2  0.198694  0.273204  0.345098  ...  0.669294  0.784314  0.879725  0.896745   \n",
       "3  0.164706  0.206537  0.258824  ...  0.196078  0.197384  0.197384  0.197384   \n",
       "4  0.213071  0.249675  0.290196  ...  0.577765  0.654902  0.763412  0.841843   \n",
       "\n",
       "       5649      5650      5651      5652      5653      5654  \n",
       "0  0.679725  0.671882  0.622235  0.443137  0.274510  0.224835  \n",
       "1  0.121569  0.081047  0.083659  0.081047  0.079737  0.090196  \n",
       "2  0.905882  0.894118  0.901961  0.890196  0.879725  0.884980  \n",
       "3  0.198694  0.198694  0.198694  0.197384  0.196078  0.196078  \n",
       "4  0.875804  0.895412  0.886275  0.865373  0.759490  0.495412  \n",
       "\n",
       "[5 rows x 5655 columns]"
      ]
     },
     "execution_count": 3,
     "metadata": {},
     "output_type": "execute_result"
    }
   ],
   "source": [
    "data = f.to_numpy()[:, 1:]\n",
    "index = f.to_numpy()[:, 0]\n",
    "print(index)\n",
    "data = data / 255\n",
    "print(data.shape, data[87, 65])\n",
    "pd.DataFrame(data).head()"
   ]
  },
  {
   "cell_type": "code",
   "execution_count": 4,
   "metadata": {},
   "outputs": [
    {
     "name": "stdout",
     "output_type": "stream",
     "text": [
      "       0         1         2         3         4         5         6     \\\n",
      "0 -0.564229 -0.587435 -0.673766 -0.764694 -0.837078 -0.908420 -0.963986   \n",
      "1 -1.224072 -1.280519 -1.384199 -1.464950 -1.521913 -1.581714 -1.607425   \n",
      "2 -1.129809 -1.099436 -1.180330 -1.188533 -1.148925 -1.141016 -1.180533   \n",
      "3 -0.790461 -0.855920 -0.896162 -0.979691 -1.057205 -1.061452 -1.137231   \n",
      "4 -0.790461 -0.824713 -0.939400 -1.065675 -1.136690 -1.147131 -1.106290   \n",
      "\n",
      "       7         8         9     ...      5645      5646      5647      5648  \\\n",
      "0 -0.959331 -0.992991 -1.085575  ...  0.696900  0.865959  0.873325  0.833173   \n",
      "1 -1.683875 -1.773001 -1.748690  ...  0.027852 -0.113354 -0.382544 -0.797779   \n",
      "2 -1.076986 -0.848304 -0.622033  ...  0.772345  1.164585  1.491697  1.538175   \n",
      "3 -1.238002 -1.169117 -1.046946  ... -1.048448 -1.033866 -1.010508 -0.976384   \n",
      "4 -1.008878 -0.961532 -0.892432  ...  0.420167  0.679850  1.065164  1.340775   \n",
      "\n",
      "       5649      5650      5651      5652      5653      5654  \n",
      "0  0.767203  0.773221  0.632098  0.051490 -0.488402 -0.617269  \n",
      "1 -1.199969 -1.299672 -1.232649 -1.203445 -1.166367 -1.085197  \n",
      "2  1.564271  1.552913  1.600609  1.600911  1.618233  1.677009  \n",
      "3 -0.928147 -0.886918 -0.834356 -0.800242 -0.761406 -0.717211  \n",
      "4  1.458263  1.557454  1.546297  1.514877  1.199718  0.323096  \n",
      "\n",
      "[5 rows x 5655 columns]\n"
     ]
    }
   ],
   "source": [
    "zscored_data = (data - np.mean(data, axis = 0))/(np.std(data, axis = 0, ddof = 1))\n",
    "print(pd.DataFrame(zscored_data).head())\n",
    "w, v = np.linalg.eigh(np.cov(np.transpose(zscored_data)))#'w' represents eigen values and 'v' represents eigen vectors\n",
    "X = v[:, w.argsort()[::-1][:1]]"
   ]
  },
  {
   "cell_type": "code",
   "execution_count": 5,
   "metadata": {},
   "outputs": [
    {
     "data": {
      "text/plain": [
       "(1520.2576790558653, (5655, 1))"
      ]
     },
     "execution_count": 5,
     "metadata": {},
     "output_type": "execute_result"
    }
   ],
   "source": [
    "max_val = w.argmax()\n",
    "w[max_val], X.shape#Test"
   ]
  },
  {
   "cell_type": "code",
   "execution_count": 6,
   "metadata": {},
   "outputs": [
    {
     "data": {
      "text/plain": [
       "(-0.5, 64.5, 86.5, -0.5)"
      ]
     },
     "execution_count": 6,
     "metadata": {},
     "output_type": "execute_result"
    },
    {
     "data": {
      "image/png": "[encoded data removed]",
      "text/plain": [
       "<Figure size 432x288 with 1 Axes>"
      ]
     },
     "metadata": {
      "needs_background": "light"
     },
     "output_type": "display_data"
    }
   ],
   "source": [
    "%matplotlib inline\n",
    "im = X.reshape(87, 65)\n",
    "plt.imshow(im, cmap = 'gray')\n",
    "plt.axis('off')"
   ]
  },
  {
   "cell_type": "code",
   "execution_count": 7,
   "metadata": {},
   "outputs": [
    {
     "data": {
      "text/plain": [
       "array([-49.49103817])"
      ]
     },
     "execution_count": 7,
     "metadata": {},
     "output_type": "execute_result"
    }
   ],
   "source": [
    "retry = zscored_data[-1, :] @ X#I'm using the very last picture\n",
    "retry"
   ]
  },
  {
   "cell_type": "code",
   "execution_count": 8,
   "metadata": {},
   "outputs": [
    {
     "data": {
      "text/plain": [
       "(-0.5, 64.5, 86.5, -0.5)"
      ]
     },
     "execution_count": 8,
     "metadata": {},
     "output_type": "execute_result"
    },
    {
     "data": {
      "image/png": "[encoded data removed]",
      "text/plain": [
       "<Figure size 432x288 with 1 Axes>"
      ]
     },
     "metadata": {
      "needs_background": "light"
     },
     "output_type": "display_data"
    }
   ],
   "source": [
    "im2 = (retry * X)[:, 0] * np.std(data, axis = 0, ddof = 1) + np.mean(data, axis = 0)\n",
    "plt.imshow(im2.reshape(87,65), cmap = 'gray')\n",
    "plt.axis('off')"
   ]
  },
  {
   "cell_type": "markdown",
   "metadata": {},
   "source": [
    "Just take a moment to appreciate these nightmares...."
   ]
  },
  {
   "cell_type": "code",
   "execution_count": 9,
   "metadata": {},
   "outputs": [
    {
     "name": "stdout",
     "output_type": "stream",
     "text": [
      "We need at least 180 principal components\n"
     ]
    }
   ],
   "source": [
    "#To find number of principal components\n",
    "D, tmp = 0, 0\n",
    "for i in sorted(w, reverse = True):\n",
    "    D += 1\n",
    "    if (tmp+i) / np.sum(w) < 0.95:\n",
    "        tmp += i\n",
    "    else:\n",
    "        break\n",
    "print(f'We need at least {D} principal components')"
   ]
  },
  {
   "cell_type": "code",
   "execution_count": 10,
   "metadata": {},
   "outputs": [],
   "source": [
    "def PCA(d, D):\n",
    "    '''PCA for D = <user input>'''\n",
    "    w, v  =np.linalg.eigh(np.cov(np.transpose(d)))\n",
    "    return v[:, w.argsort()[-D:].tolist()[::-1]]"
   ]
  },
  {
   "cell_type": "code",
   "execution_count": 11,
   "metadata": {},
   "outputs": [],
   "source": [
    "try2 = PCA(zscored_data, D)"
   ]
  },
  {
   "cell_type": "code",
   "execution_count": 12,
   "metadata": {},
   "outputs": [
    {
     "data": {
      "text/plain": [
       "((5655, 180), (5655, 1))"
      ]
     },
     "execution_count": 12,
     "metadata": {},
     "output_type": "execute_result"
    }
   ],
   "source": [
    "try2.shape, X.shape"
   ]
  },
  {
   "cell_type": "code",
   "execution_count": 13,
   "metadata": {},
   "outputs": [
    {
     "data": {
      "text/plain": [
       "(-0.5, 64.5, 86.5, -0.5)"
      ]
     },
     "execution_count": 13,
     "metadata": {},
     "output_type": "execute_result"
    },
    {
     "data": {
      "image/png": "[encoded data removed]",
      "text/plain": [
       "<Figure size 432x288 with 1 Axes>"
      ]
     },
     "metadata": {
      "needs_background": "light"
     },
     "output_type": "display_data"
    }
   ],
   "source": [
    "im3 = zscored_data @ try2 @ np.transpose(try2) * np.std(data, axis = 0, ddof = 1) + np.mean(data, axis = 0)\n",
    "plt.imshow(im3[-1, :].reshape(87, 65), cmap = 'gray')\n",
    "plt.axis('off')"
   ]
  },
  {
   "cell_type": "code",
   "execution_count": 14,
   "metadata": {},
   "outputs": [
    {
     "data": {
      "text/plain": [
       "<matplotlib.image.AxesImage at 0x18c29798550>"
      ]
     },
     "execution_count": 14,
     "metadata": {},
     "output_type": "execute_result"
    },
    {
     "data": {
      "image/png": "[encoded data removed]",
      "text/plain": [
       "<Figure size 432x288 with 1 Axes>"
      ]
     },
     "metadata": {
      "needs_background": "light"
     },
     "output_type": "display_data"
    }
   ],
   "source": [
    "#Just for comparison\n",
    "plt.imshow(f.to_numpy()[-1, 1:].reshape(87, 65), cmap = 'gray')"
   ]
  },
  {
   "cell_type": "markdown",
   "metadata": {},
   "source": [
    "Looks pretty good!!"
   ]
  }
 ],
 "metadata": {
  "kernelspec": {
   "display_name": "Python 3",
   "language": "python",
   "name": "python3"
  },
  "language_info": {
   "codemirror_mode": {
    "name": "ipython",
    "version": 3
   },
   "file_extension": ".py",
   "mimetype": "text/x-python",
   "name": "python",
   "nbconvert_exporter": "python",
   "pygments_lexer": "ipython3",
   "version": "3.8.5"
  }
 },
 "nbformat": 4,
 "nbformat_minor": 4
}
