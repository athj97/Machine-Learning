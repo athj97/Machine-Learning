{
 "cells": [
  {
   "cell_type": "code",
   "execution_count": 1,
   "metadata": {},
   "outputs": [],
   "source": [
    "import numpy as np\n",
    "from numpy.linalg import inv\n",
    "import math\n",
    "import random\n",
    "import pandas as pd\n",
    "import matplotlib.pyplot as plt\n",
    "from sklearn.model_selection import train_test_split\n",
    "from sklearn.metrics import mean_squared_error"
   ]
  },
  {
   "cell_type": "markdown",
   "metadata": {},
   "source": [
    "Common Functions"
   ]
  },
  {
   "cell_type": "code",
   "execution_count": 2,
   "metadata": {},
   "outputs": [],
   "source": [
    "def Zscore(x):\n",
    "    return (x.to_numpy() - x.mean())/x.std() #* (len(x)/(len(x) - 1)) ** 0.5)\n",
    "#Since we're using std() from pandas, which normalizes wrt 'N-1' by default, there's no need to modify the code\n",
    "#https://www.geeksforgeeks.org/python-pandas-series-std/#:~:text=std()%20function%20return%20sample,changed%20using%20the%20ddof%20argument"
   ]
  },
  {
   "cell_type": "code",
   "execution_count": 3,
   "metadata": {},
   "outputs": [],
   "source": [
    "#Function for data cleaning-normalizing, etc\n",
    "def cleanup(a, b):\n",
    "    aT = a['Temp of Water']#Using numbers instead of actual coloumn headers doesn't work\n",
    "    aL = a['Length of Fish']\n",
    "    bT = b['Temp of Water']\n",
    "    bL = b['Length of Fish']\n",
    "    aT_z = Zscore(aT)\n",
    "    aL_z = Zscore(aL)\n",
    "    bT_z = Zscore(bT)\n",
    "    bL_z = Zscore(bL)\n",
    "    \n",
    "    #First dataset(training set)\n",
    "    bias_a = np.ones(aT.shape[0]).reshape(-1, 1)\n",
    "    aX = np.append(bias_a, aT_z.reshape(-1, 1), axis = 1)#The X matrix\n",
    "    aX = np.append(aX, aL_z.reshape(-1, 1), axis = 1)\n",
    "    aY = a['Age'].to_numpy()#The Y matrix\n",
    "    \n",
    "    #Second dataset(test/validation set)\n",
    "    bias_b = np.ones(bT.shape[0]).reshape(-1, 1)\n",
    "    bY = b['Age'].to_numpy()\n",
    "    bX = np.append(bias_b, bT_z.reshape(-1, 1), axis = 1)\n",
    "    bX = np.append(bX, bL_z.reshape(-1, 1), axis = 1)\n",
    "    return aX, aY, bX, bY"
   ]
  },
  {
   "cell_type": "markdown",
   "metadata": {},
   "source": [
    "Reading the data"
   ]
  },
  {
   "cell_type": "code",
   "execution_count": 4,
   "metadata": {},
   "outputs": [
    {
     "data": {
      "text/html": [
       "<div>\n",
       "<style scoped>\n",
       "    .dataframe tbody tr th:only-of-type {\n",
       "        vertical-align: middle;\n",
       "    }\n",
       "\n",
       "    .dataframe tbody tr th {\n",
       "        vertical-align: top;\n",
       "    }\n",
       "\n",
       "    .dataframe thead th {\n",
       "        text-align: right;\n",
       "    }\n",
       "</style>\n",
       "<table border=\"1\" class=\"dataframe\">\n",
       "  <thead>\n",
       "    <tr style=\"text-align: right;\">\n",
       "      <th></th>\n",
       "      <th>Age</th>\n",
       "      <th>Temp of Water</th>\n",
       "      <th>Length of Fish</th>\n",
       "    </tr>\n",
       "  </thead>\n",
       "  <tbody>\n",
       "    <tr>\n",
       "      <th>0</th>\n",
       "      <td>14</td>\n",
       "      <td>25</td>\n",
       "      <td>620</td>\n",
       "    </tr>\n",
       "    <tr>\n",
       "      <th>1</th>\n",
       "      <td>28</td>\n",
       "      <td>25</td>\n",
       "      <td>1315</td>\n",
       "    </tr>\n",
       "    <tr>\n",
       "      <th>2</th>\n",
       "      <td>41</td>\n",
       "      <td>25</td>\n",
       "      <td>2120</td>\n",
       "    </tr>\n",
       "    <tr>\n",
       "      <th>3</th>\n",
       "      <td>55</td>\n",
       "      <td>25</td>\n",
       "      <td>2600</td>\n",
       "    </tr>\n",
       "    <tr>\n",
       "      <th>4</th>\n",
       "      <td>69</td>\n",
       "      <td>25</td>\n",
       "      <td>3110</td>\n",
       "    </tr>\n",
       "  </tbody>\n",
       "</table>\n",
       "</div>"
      ],
      "text/plain": [
       "   Age  Temp of Water  Length of Fish\n",
       "0   14             25             620\n",
       "1   28             25            1315\n",
       "2   41             25            2120\n",
       "3   55             25            2600\n",
       "4   69             25            3110"
      ]
     },
     "execution_count": 4,
     "metadata": {},
     "output_type": "execute_result"
    }
   ],
   "source": [
    "f = pd.read_csv('x06Simple.csv')#csv reader from pandas library\n",
    "del f['Index']#We don't need index\n",
    "random.seed(0)#As  instructed\n",
    "f.head()"
   ]
  },
  {
   "cell_type": "markdown",
   "metadata": {},
   "source": [
    "# Closed form Linear Regression"
   ]
  },
  {
   "cell_type": "code",
   "execution_count": 5,
   "metadata": {},
   "outputs": [
    {
     "data": {
      "text/html": [
       "<div>\n",
       "<style scoped>\n",
       "    .dataframe tbody tr th:only-of-type {\n",
       "        vertical-align: middle;\n",
       "    }\n",
       "\n",
       "    .dataframe tbody tr th {\n",
       "        vertical-align: top;\n",
       "    }\n",
       "\n",
       "    .dataframe thead th {\n",
       "        text-align: right;\n",
       "    }\n",
       "</style>\n",
       "<table border=\"1\" class=\"dataframe\">\n",
       "  <thead>\n",
       "    <tr style=\"text-align: right;\">\n",
       "      <th></th>\n",
       "      <th>Age</th>\n",
       "      <th>Temp of Water</th>\n",
       "      <th>Length of Fish</th>\n",
       "    </tr>\n",
       "  </thead>\n",
       "  <tbody>\n",
       "    <tr>\n",
       "      <th>14</th>\n",
       "      <td>55</td>\n",
       "      <td>27</td>\n",
       "      <td>2805</td>\n",
       "    </tr>\n",
       "    <tr>\n",
       "      <th>27</th>\n",
       "      <td>83</td>\n",
       "      <td>29</td>\n",
       "      <td>3920</td>\n",
       "    </tr>\n",
       "    <tr>\n",
       "      <th>7</th>\n",
       "      <td>111</td>\n",
       "      <td>25</td>\n",
       "      <td>4465</td>\n",
       "    </tr>\n",
       "    <tr>\n",
       "      <th>3</th>\n",
       "      <td>55</td>\n",
       "      <td>25</td>\n",
       "      <td>2600</td>\n",
       "    </tr>\n",
       "    <tr>\n",
       "      <th>17</th>\n",
       "      <td>97</td>\n",
       "      <td>27</td>\n",
       "      <td>4315</td>\n",
       "    </tr>\n",
       "  </tbody>\n",
       "</table>\n",
       "</div>"
      ],
      "text/plain": [
       "    Age  Temp of Water  Length of Fish\n",
       "14   55             27            2805\n",
       "27   83             29            3920\n",
       "7   111             25            4465\n",
       "3    55             25            2600\n",
       "17   97             27            4315"
      ]
     },
     "execution_count": 5,
     "metadata": {},
     "output_type": "execute_result"
    }
   ],
   "source": [
    "training_set, test_set = train_test_split(f, train_size = 0.33)#using 1/3rd data for training\n",
    "training_set.head()#Testing"
   ]
  },
  {
   "cell_type": "code",
   "execution_count": 6,
   "metadata": {},
   "outputs": [
    {
     "data": {
      "text/plain": [
       "array([[ 1.        , -0.51313259, -0.5983598 ],\n",
       "       [ 1.        , -1.4186607 ,  0.65629146],\n",
       "       [ 1.        , -0.51313259, -1.6192678 ],\n",
       "       [ 1.        , -1.4186607 , -1.6227052 ],\n",
       "       [ 1.        ,  0.39239551,  1.08940394],\n",
       "       [ 1.        ,  1.29792362, -0.73241842],\n",
       "       [ 1.        , -1.4186607 ,  0.08912034],\n",
       "       [ 1.        ,  0.39239551,  0.64597925],\n",
       "       [ 1.        ,  0.39239551,  1.05846734],\n",
       "       [ 1.        , -1.4186607 , -1.14490651],\n",
       "       [ 1.        ,  1.29792362,  0.02724713],\n",
       "       [ 1.        , -0.51313259,  1.11346575],\n",
       "       [ 1.        ,  0.39239551, -1.64332961],\n",
       "       [ 1.        , -0.51313259,  1.06877954],\n",
       "       [ 1.        ,  1.29792362, -0.57773539],\n",
       "       [ 1.        , -1.4186607 ,  1.06534214],\n",
       "       [ 1.        ,  1.29792362, -1.22052932],\n",
       "       [ 1.        , -0.51313259,  1.04128033],\n",
       "       [ 1.        ,  1.29792362, -1.64332961],\n",
       "       [ 1.        ,  1.29792362,  0.03412193],\n",
       "       [ 1.        , -1.4186607 ,  1.11346575],\n",
       "       [ 1.        ,  0.39239551,  1.09009142],\n",
       "       [ 1.        ,  0.39239551,  1.06190474],\n",
       "       [ 1.        , -0.51313259,  0.18880496],\n",
       "       [ 1.        ,  0.39239551, -1.15178131],\n",
       "       [ 1.        , -1.4186607 ,  0.3812994 ],\n",
       "       [ 1.        ,  1.29792362, -0.18587171],\n",
       "       [ 1.        ,  0.39239551, -0.57773539],\n",
       "       [ 1.        ,  0.39239551, -0.06212529],\n",
       "       [ 1.        ,  0.39239551,  1.05502994]])"
      ]
     },
     "execution_count": 6,
     "metadata": {},
     "output_type": "execute_result"
    }
   ],
   "source": [
    "trainingX, trainingY, testX, originalY = cleanup(training_set, test_set)\n",
    "testX#Testing"
   ]
  },
  {
   "cell_type": "code",
   "execution_count": 7,
   "metadata": {},
   "outputs": [
    {
     "data": {
      "text/plain": [
       "array([97.07142857, 21.92934583, 28.88195271])"
      ]
     },
     "execution_count": 7,
     "metadata": {},
     "output_type": "execute_result"
    }
   ],
   "source": [
    "X_T = np.transpose(trainingX)\n",
    "X_T_X = np.dot(X_T, trainingX)\n",
    "X_T_X_inv = np.linalg.inv(X_T_X)\n",
    "X_T_Y = np.dot(X_T, trainingY)\n",
    "fx = np.dot(X_T_X_inv, X_T_Y)#output as function of 'x'\n",
    "fx"
   ]
  },
  {
   "cell_type": "code",
   "execution_count": 8,
   "metadata": {},
   "outputs": [
    {
     "name": "stdout",
     "output_type": "stream",
     "text": [
      "RMSE is 37.303466\n"
     ]
    }
   ],
   "source": [
    "newY = np.dot(testX, fx)\n",
    "rmse = mean_squared_error(originalY, abs(newY), squared = False)\n",
    "print('RMSE is %f'%rmse)"
   ]
  },
  {
   "cell_type": "markdown",
   "metadata": {},
   "source": [
    "# S-fold Cross Validation"
   ]
  },
  {
   "cell_type": "code",
   "execution_count": 11,
   "metadata": {},
   "outputs": [],
   "source": [
    "def Sfold(dataset, s):\n",
    "    err_li = []\n",
    "    #print(s/len(dataset))\n",
    "    for i in range(20):\n",
    "        #Since we need average of 20 errors\n",
    "        random.seed(0)#Each iteration will have randomly shuffled data\n",
    "        dx = dataset.sample(frac = 1).reset_index()#Selecting sample 'dx'\n",
    "        k = np.array_split(dx, s)#Selecting the fold\n",
    "        training_set, test_set = train_test_split(dataset, train_size = s/len(dataset))#Splitting the given dataset accrodingly\n",
    "        \n",
    "        #Same thing again\n",
    "        trainingX, trainingY, testX, originalY = cleanup(training_set, test_set)\n",
    "        X_T = np.transpose(trainingX)\n",
    "        X_T_X = np.dot(X_T, trainingX)\n",
    "        X_T_X_inv = np.linalg.inv(X_T_X)\n",
    "        X_T_Y = np.dot(X_T, trainingY)\n",
    "        fx = np.dot(X_T_X_inv, X_T_Y)#output as function of 'x'\n",
    "        newY = np.dot(testX, fx)\n",
    "        \n",
    "        err_li.append(mean_squared_error(originalY, abs(newY), squared = False))\n",
    "    return err_li"
   ]
  },
  {
   "cell_type": "code",
   "execution_count": 12,
   "metadata": {},
   "outputs": [
    {
     "name": "stdout",
     "output_type": "stream",
     "text": [
      "For S = 4, average RMSE is 35.4609 with standard deviation 14.4939\n",
      "For S = 11, average RMSE is 27.5232 with standard deviation 6.2387\n",
      "For S = 22, average RMSE is 24.8623 with standard deviation 3.0945\n"
     ]
    }
   ],
   "source": [
    "S = [4, 11, 22]\n",
    "#Index error for the last bit, i.e. S = sample size, couldn't figure out what was wrong so gave up on it\n",
    "for i in S:\n",
    "    rmse_li = Sfold(f, i)\n",
    "    std = np.std(rmse_li)\n",
    "    mean = np.mean(rmse_li)\n",
    "    print('For S = {}, average RMSE is {:.4f} with standard deviation {:.4f}'.format(i, mean, std))"
   ]
  },
  {
   "cell_type": "markdown",
   "metadata": {},
   "source": [
    "Sfold function gives runtime errors sometimes, I think that has something to do with mean_squared_error() function from scikit library. Just run the above two cells again and it should work.\n",
    "\n",
    "Also rmse and std values for S = 4 vary a lot, not fully sure if they should. Standard deviation generally reduces with increased fold size."
   ]
  },
  {
   "cell_type": "markdown",
   "metadata": {},
   "source": [
    "***`Common part for next two problems:`***"
   ]
  },
  {
   "cell_type": "markdown",
   "metadata": {},
   "source": [
    "*Restart from here for next run, for both next problems, you may want to because sometimes the plots for RMSEs overlap*"
   ]
  },
  {
   "cell_type": "code",
   "execution_count": 13,
   "metadata": {},
   "outputs": [],
   "source": [
    "random.seed(0)#As said in the pdf\n",
    "randomized_data = f.sample(frac = 1).reset_index()\n",
    "#randomized_data.head()\n",
    "samples = np.array_split(randomized_data, 3)#We need 2/3rd of data, hencce dividing data in 3 different parts\n",
    "#samples\n",
    "validation_data = pd.DataFrame(samples[2])#Selecting last 1/3rd data for validation\n",
    "training_data = pd.DataFrame(randomized_data, index = set(randomized_data.index).difference(set(samples[0].index)))#samples[1] + samples[2]\n",
    "#print(training_data)\n",
    "#print(validation_data)"
   ]
  },
  {
   "cell_type": "code",
   "execution_count": 14,
   "metadata": {},
   "outputs": [],
   "source": [
    "trainingX, trainingY, testX, originalY = cleanup(training_data, validation_data)#Same thing again\n",
    "#trainingX, testX\n",
    "#trainingY"
   ]
  },
  {
   "cell_type": "markdown",
   "metadata": {},
   "source": [
    "#  Locally Weighted Linear Regression"
   ]
  },
  {
   "cell_type": "code",
   "execution_count": 15,
   "metadata": {},
   "outputs": [
    {
     "name": "stdout",
     "output_type": "stream",
     "text": [
      "RMSE is 62.7482\n"
     ]
    }
   ],
   "source": [
    "error = []\n",
    "#Since k = 1, denominator becomes 1, hence ignoring it in the code\n",
    "for i in range(len(validation_data)):\n",
    "    temp = []\n",
    "    for j in range(len(training_data)):\n",
    "        beta_function = math.exp(-(np.sum(np.abs(testX[i, :]) - np.abs(trainingX[j, :]))))#e^dist\n",
    "        temp.append(beta_function)\n",
    "    temp2 = np.diag(np.array(temp))\n",
    "    xT = np.transpose(trainingX)\n",
    "    fx = np.linalg.inv(xT.dot(temp2).dot(trainingX)).dot(xT.dot(temp2).dot(trainingY))#I really should've created a function for this!!\n",
    "    prediction = np.dot(trainingX[i], fx)#prediction for each local value\n",
    "    \n",
    "    sq_error = (abs(prediction) - originalY[i])**2#Computing squared errors, as instructed, here mean_squared_error() function did not work\n",
    "    error.append(sq_error)\n",
    "rmse = np.sqrt(np.sum(error) / len(error))\n",
    "print(f'RMSE is {rmse:.4f}')"
   ]
  },
  {
   "cell_type": "markdown",
   "metadata": {},
   "source": [
    "# Gradient Descent"
   ]
  },
  {
   "cell_type": "code",
   "execution_count": 16,
   "metadata": {},
   "outputs": [
    {
     "data": {
      "text/plain": [
       "array([2.47226962e-05, 3.08577327e-05, 5.28523331e-05])"
      ]
     },
     "execution_count": 16,
     "metadata": {},
     "output_type": "execute_result"
    }
   ],
   "source": [
    "eta = 0.0001#Given\n",
    "epoch_limit = 1000000#Also given\n",
    "size = trainingX.shape[1]\n",
    "fx = np.random.uniform(-eta, eta, size)#For uniform distribution\n",
    "fx"
   ]
  },
  {
   "cell_type": "code",
   "execution_count": 17,
   "metadata": {},
   "outputs": [
    {
     "data": {
      "text/plain": [
       "(array([-3.41962448e-05,  9.10279795e-05, -4.89070785e-05,  1.56327330e-05,\n",
       "         9.33478332e-05, -7.67932010e-05,  5.09423874e-05,  3.56313527e-05,\n",
       "        -1.66611116e-05, -5.79066305e-05,  5.00144459e-05, -5.45226051e-05,\n",
       "        -3.08600970e-05,  5.04784167e-05,  3.94793489e-05,  6.36058278e-05,\n",
       "         6.34217200e-05,  5.90154784e-05,  3.20079394e-05,  6.66216377e-05,\n",
       "         4.21757208e-06,  3.68796322e-05,  6.17499448e-05,  9.33942303e-05,\n",
       "         5.74379779e-05,  6.34217200e-05,  3.50237492e-05,  9.12599649e-05,\n",
       "        -1.17806735e-04]),\n",
       " array([ 4.53703567e-05,  4.60822694e-05,  4.23707537e-05,  1.13612071e-05,\n",
       "         4.85299485e-05, -1.68492975e-05,  1.64651631e-05,  4.34259925e-05,\n",
       "         7.74837511e-05,  4.07180441e-05,  4.60822694e-05,  1.45207989e-05,\n",
       "         7.52477323e-05, -1.44691243e-04]))"
      ]
     },
     "execution_count": 17,
     "metadata": {},
     "output_type": "execute_result"
    }
   ],
   "source": [
    "prediction_training_data = np.dot(trainingX, fx)\n",
    "prediction_test_data = np.dot(testX, fx)\n",
    "prediction_training_data, prediction_test_data#Testing"
   ]
  },
  {
   "cell_type": "code",
   "execution_count": 18,
   "metadata": {},
   "outputs": [
    {
     "data": {
      "text/plain": [
       "(97.86651137606576, 116.4942923937792)"
      ]
     },
     "execution_count": 18,
     "metadata": {},
     "output_type": "execute_result"
    }
   ],
   "source": [
    "#Starting points for rmse graphs\n",
    "rmse_training = np.sqrt(((prediction_training_data - trainingY)**2).mean())\n",
    "rmse_test = np.sqrt(((prediction_test_data - originalY)**2).mean())\n",
    "rmse_training, rmse_test#Testing"
   ]
  },
  {
   "cell_type": "code",
   "execution_count": 19,
   "metadata": {},
   "outputs": [],
   "source": [
    "count = 0\n",
    "percent_change = 1\n",
    "\n",
    "rmse_training_li = [rmse_training]\n",
    "rmse_test_li = [rmse_test]\n",
    "while count < epoch_limit:\n",
    "    fx  = fx - 2 * eta * (trainingX.T.dot(trainingX.dot(fx) - trainingY))\n",
    "    \n",
    "    #For training rmse\n",
    "    prediction_training_data = trainingX.dot(fx)\n",
    "    rmse_training_tmp = np.sqrt(((prediction_training_data - trainingY) ** 2).mean())\n",
    "    rmse_training_li.append(rmse_training_tmp)\n",
    "    \n",
    "    #For validation rmse\n",
    "    prediction_test_data = testX.dot(fx)\n",
    "    rmse_test_tmp = np.sqrt(((prediction_test_data - originalY) ** 2).mean())\n",
    "    rmse_test_li.append(rmse_test_tmp)\n",
    "    \n",
    "    #percent_change = np.abs((rmse_training_tmp - rmse_training) / rmse_test)\n",
    "    #rmse_training = rmse_training_tmp\n",
    "    \n",
    "    count += 1"
   ]
  },
  {
   "cell_type": "markdown",
   "metadata": {},
   "source": [
    "*Ignoring percent change and directly using 1000000 epoches, it's just easier to manually putting a cap on valules in the plot below*"
   ]
  },
  {
   "cell_type": "code",
   "execution_count": 20,
   "metadata": {},
   "outputs": [
    {
     "name": "stdout",
     "output_type": "stream",
     "text": [
      "[89.37931034  9.39968017 35.08894864]\n",
      "1000000\n"
     ]
    },
    {
     "data": {
      "text/plain": [
       "[97.86651137606576,\n",
       " 97.33086864661487,\n",
       " 96.79846012625107,\n",
       " 96.26926767890166,\n",
       " 95.74327327662446,\n",
       " 95.22045899895815,\n",
       " 94.70080703227542,\n",
       " 94.18429966913997,\n",
       " 93.67091930766682,\n",
       " 93.16064845088563,\n",
       " 92.65346970610777,\n",
       " 92.14936578429628,\n",
       " 91.64831949943934,\n",
       " 91.15031376792686,\n",
       " 90.6553316079303,\n",
       " 90.1633561387857,\n",
       " 89.67437058037972,\n",
       " 89.18835825253912,\n",
       " 88.70530257442292,\n",
       " 88.22518706391809]"
      ]
     },
     "execution_count": 20,
     "metadata": {},
     "output_type": "execute_result"
    }
   ],
   "source": [
    "print(fx)\n",
    "print(count)\n",
    "rmse_training_li[:20]#Test"
   ]
  },
  {
   "cell_type": "code",
   "execution_count": 21,
   "metadata": {},
   "outputs": [
    {
     "data": {
      "text/plain": [
       "[116.4942923937792,\n",
       " 115.96201992629595,\n",
       " 115.43296130482918,\n",
       " 114.90709813061437,\n",
       " 114.38441211063412,\n",
       " 113.864885056968,\n",
       " 113.34849888614644,\n",
       " 112.83523561850815,\n",
       " 112.32507737756141,\n",
       " 111.81800638934908,\n",
       " 111.31400498181742,\n",
       " 110.81305558418842,\n",
       " 110.31514072633598,\n",
       " 109.82024303816571,\n",
       " 109.32834524899836,\n",
       " 108.83943018695687,\n",
       " 108.35348077835715,\n",
       " 107.87048004710223,\n",
       " 107.39041111408027,\n",
       " 106.9132571965659]"
      ]
     },
     "execution_count": 21,
     "metadata": {},
     "output_type": "execute_result"
    }
   ],
   "source": [
    "rmse_test_li[:20]#Test"
   ]
  },
  {
   "cell_type": "markdown",
   "metadata": {},
   "source": [
    "Plotting RMSEs"
   ]
  },
  {
   "cell_type": "code",
   "execution_count": 22,
   "metadata": {},
   "outputs": [
    {
     "data": {
      "text/plain": [
       "<matplotlib.legend.Legend at 0x21863e02880>"
      ]
     },
     "execution_count": 22,
     "metadata": {},
     "output_type": "execute_result"
    },
    {
     "data": {
      "image/png": "[encoded data removed]",
      "text/plain": [
       "<Figure size 432x288 with 1 Axes>"
      ]
     },
     "metadata": {
      "needs_background": "light"
     },
     "output_type": "display_data"
    }
   ],
   "source": [
    "%matplotlib inline\n",
    "#Suggested by the internet\n",
    "\n",
    "tmp = plt.figure()\n",
    "fig = tmp.add_axes([0, 0, 1, 1])\n",
    "fig.plot([i for i in range(1500)], rmse_training_li[:1500], label = 'Training RMSE')\n",
    "fig.plot([i for i in range(1500)], rmse_test_li[:1500], label = 'Test RMSE', linestyle = 'dashed')\n",
    "fig.set_xlabel('Epoch')\n",
    "fig.set_ylabel('RMSE')\n",
    "fig.legend()"
   ]
  },
  {
   "cell_type": "markdown",
   "metadata": {},
   "source": [
    "After 1500 values, both training RMSE and test RMSE plots become nearly straight lines and it also becomes hard to distinguish between the two plots afterwards, hence showing only 1500 values."
   ]
  }
 ],
 "metadata": {
  "kernelspec": {
   "display_name": "Python 3",
   "language": "python",
   "name": "python3"
  },
  "language_info": {
   "codemirror_mode": {
    "name": "ipython",
    "version": 3
   },
   "file_extension": ".py",
   "mimetype": "text/x-python",
   "name": "python",
   "nbconvert_exporter": "python",
   "pygments_lexer": "ipython3",
   "version": "3.8.5"
  }
 },
 "nbformat": 4,
 "nbformat_minor": 4
}
